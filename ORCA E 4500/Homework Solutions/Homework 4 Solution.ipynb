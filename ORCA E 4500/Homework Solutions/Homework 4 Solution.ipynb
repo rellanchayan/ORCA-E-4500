{
 "cells": [
  {
   "cell_type": "code",
   "execution_count": 13,
   "metadata": {},
   "outputs": [],
   "source": [
    "import numpy as np\n",
    "import pandas as pd\n",
    "from scipy.stats import norm, chi2, t\n",
    "from scipy.stats import percentileofscore"
   ]
  },
  {
   "cell_type": "code",
   "execution_count": 2,
   "metadata": {},
   "outputs": [
    {
     "name": "stdout",
     "output_type": "stream",
     "text": [
      "0.897\n"
     ]
    }
   ],
   "source": [
    "# problem 1\n",
    "\n",
    "alpha = .05\n",
    "n = 10\n",
    "m = 1000\n",
    "cut_off = (chi2.ppf(1 - alpha, n-1)) / (n-1)\n",
    "x = norm.rvs(scale=2, loc=0,  size=(m, n))\n",
    "S_2 = np.var(x, axis=1, ddof=1)\n",
    "print(np.mean(S_2 > cut_off))"
   ]
  },
  {
   "cell_type": "code",
   "execution_count": 10,
   "metadata": {},
   "outputs": [
    {
     "name": "stdout",
     "output_type": "stream",
     "text": [
      "reject H0\n",
      "reject H0\n"
     ]
    }
   ],
   "source": [
    "# problem 2\n",
    "\n",
    "df = pd.read_csv('normal_samples.csv',index_col=0)\n",
    "n = len(df)\n",
    "x_bar = np.mean(df['values'])\n",
    "alpha = .05\n",
    "z_alpha2 = norm.ppf(1 - alpha/2)\n",
    "t_alpha2 = t.ppf(1 - alpha/2, n-1)\n",
    "\n",
    "# sigma known\n",
    "sigma = 0.3\n",
    "cutoff = z_alpha2 * sigma / np.sqrt(n)\n",
    "if np.abs(x_bar) > cutoff:\n",
    "    print(\"reject H0\")\n",
    "else:\n",
    "    print('fail to reject H0')\n",
    "    \n",
    "# sigma unknown\n",
    "S = np.std(df['values'], ddof=1)\n",
    "cutoff2 = t_alpha2 * S / np.sqrt(n)\n",
    "if np.abs(x_bar) > cutoff2:\n",
    "    print(\"reject H0\")\n",
    "else:\n",
    "    print('fail to reject H0')"
   ]
  },
  {
   "cell_type": "code",
   "execution_count": 50,
   "metadata": {},
   "outputs": [
    {
     "data": {
      "text/plain": [
       "(2.4476950000000004, 0.882, False)"
      ]
     },
     "execution_count": 50,
     "metadata": {},
     "output_type": "execute_result"
    }
   ],
   "source": [
    "# problem 3\n",
    "\n",
    "df = pd.read_csv('accidents.csv', index_col=0)\n",
    "\n",
    "def bootstrap_hypothesis_test(X, m, mu_0, alpha):\n",
    "    n = len(X)\n",
    "    X_resample = np.random.choice(X, size=(m, n))\n",
    "    mu_hat = np.mean(X_resample, axis=1)\n",
    "    lower = np.percentile(mu_hat, alpha * 100)\n",
    "    p_value = percentileofscore(mu_hat, mu_0) / 100\n",
    "    reject = (mu_0 < lower)\n",
    "    return lower, p_value, reject\n",
    "\n",
    "bootstrap_hypothesis_test(df['values'], 1000, 2.5, .05)"
   ]
  },
  {
   "cell_type": "code",
   "execution_count": null,
   "metadata": {},
   "outputs": [],
   "source": []
  }
 ],
 "metadata": {
  "kernelspec": {
   "display_name": "Python 3",
   "language": "python",
   "name": "python3"
  },
  "language_info": {
   "codemirror_mode": {
    "name": "ipython",
    "version": 3
   },
   "file_extension": ".py",
   "mimetype": "text/x-python",
   "name": "python",
   "nbconvert_exporter": "python",
   "pygments_lexer": "ipython3",
   "version": "3.8.5"
  }
 },
 "nbformat": 4,
 "nbformat_minor": 4
}
