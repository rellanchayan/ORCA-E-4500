{
 "cells": [
  {
   "cell_type": "code",
   "execution_count": 1,
   "metadata": {},
   "outputs": [],
   "source": [
    "import numpy as np\n",
    "import pandas as pd\n",
    "from sklearn.preprocessing import StandardScaler, PolynomialFeatures, OneHotEncoder\n",
    "from sklearn.model_selection import train_test_split, GridSearchCV\n",
    "from sklearn.compose import ColumnTransformer\n",
    "from sklearn.pipeline import Pipeline\n",
    "from sklearn.linear_model import Ridge\n",
    "from sklearn.ensemble import RandomForestRegressor"
   ]
  },
  {
   "cell_type": "code",
   "execution_count": 2,
   "metadata": {},
   "outputs": [],
   "source": [
    "path = 'bb_agg.csv'\n",
    "df = pd.read_csv(path, index_col=0)"
   ]
  },
  {
   "cell_type": "code",
   "execution_count": 3,
   "metadata": {},
   "outputs": [],
   "source": [
    "# define categorical and numeric columns\n",
    "cat_cols = ['yearID', 'lgID']\n",
    "\n",
    "cont_cols = df.columns.drop(cat_cols + ['W', 'teamID'])"
   ]
  },
  {
   "cell_type": "code",
   "execution_count": 4,
   "metadata": {},
   "outputs": [],
   "source": [
    "# create design matrix, target vector, split into test and train\n",
    "\n",
    "X = df[cat_cols + list(cont_cols)]\n",
    "y = df['W']\n",
    "\n",
    "X_train, X_test, y_train, y_test = train_test_split(X, y)"
   ]
  },
  {
   "cell_type": "code",
   "execution_count": 5,
   "metadata": {},
   "outputs": [
    {
     "name": "stdout",
     "output_type": "stream",
     "text": [
      "0.7667087204878169\n"
     ]
    }
   ],
   "source": [
    "# make pipelines and column transformer for ridge regression\n",
    "\n",
    "param_grid = {'ridge__alpha': np.logspace(-2, 2, 20)}\n",
    "\n",
    "pipe_cat = Pipeline([('onehot', OneHotEncoder(handle_unknown='ignore')),\n",
    "                     ('poly', PolynomialFeatures(degree=2, interaction_only=True))])\n",
    "\n",
    "pipe_cont = Pipeline([('poly', PolynomialFeatures(degree=2, include_bias=False)),\n",
    "                     ('scaler', StandardScaler())])\n",
    "\n",
    "ct = ColumnTransformer([('cat', pipe_cat, cat_cols),\n",
    "                        ('cont', pipe_cont, cont_cols)],\n",
    "                        remainder='drop')\n",
    "\n",
    "pipe = Pipeline([('preprocess', ct),\n",
    "                 ('ridge', Ridge(fit_intercept=False))])\n",
    "\n",
    "ridgeCV = GridSearchCV(pipe, param_grid=param_grid, cv=5)\n",
    "\n",
    "ridgeCV.fit(X_train, y_train)\n",
    "\n",
    "print(ridgeCV.score(X_test, y_test))"
   ]
  },
  {
   "cell_type": "code",
   "execution_count": null,
   "metadata": {},
   "outputs": [],
   "source": [
    "# do the same for random forest\n",
    "\n",
    "param_grid = {'rf__max_depth': [5, 10, 20, None],\n",
    "              'rf__min_samples_split': [2, 5, 10]}\n",
    "\n",
    "# i don't really need to do any of the interaction stuff, etc for random forest, \n",
    "# but it actually improves performance a bit if i do\n",
    "\n",
    "pipe_cat = Pipeline([('onehot', OneHotEncoder(handle_unknown='ignore')),\n",
    "                     ('poly', PolynomialFeatures(degree=2, interaction_only=True))])\n",
    "\n",
    "pipe_cont = Pipeline([('poly', PolynomialFeatures(include_bias=False)),\n",
    "                     ('scaler', StandardScaler())])\n",
    "\n",
    "ct = ColumnTransformer([('cat', pipe_cat, cat_cols),\n",
    "                        ('cont', pipe_cont, cont_cols)],\n",
    "                        remainder='drop')\n",
    "\n",
    "pipe = Pipeline([('preprocess', ct),\n",
    "                 ('rf', RandomForestRegressor())])\n",
    "\n",
    "rfCV = GridSearchCV(pipe, param_grid=param_grid, cv=5)\n",
    "rfCV.fit(X_train, y_train)\n",
    "\n",
    "print(rfCV.score(X_test, y_test))"
   ]
  },
  {
   "cell_type": "code",
   "execution_count": null,
   "metadata": {},
   "outputs": [],
   "source": [
    "# how to optimize degree of polynomial\n",
    "# drop degree in the continuous bit\n",
    "# and include it as a parameter in the grid search as follows\n",
    "\n",
    "param_grid = {'ridge__alpha': np.logspace(-2, 2, 20),\n",
    "              'preprocess__cont__poly__degree': [1, 2]}\n",
    "\n",
    "pipe_cat = Pipeline([('onehot', OneHotEncoder(handle_unknown='ignore')),\n",
    "                     ('poly', PolynomialFeatures(degree=2, interaction_only=True))])\n",
    "\n",
    "pipe_cont = Pipeline([('poly', PolynomialFeatures(include_bias=False)),\n",
    "                     ('scaler', StandardScaler())])\n",
    "\n",
    "ct = ColumnTransformer([('cat', pipe_cat, cat_cols),\n",
    "                        ('cont', pipe_cont, cont_cols)],\n",
    "                        remainder='drop')\n",
    "\n",
    "pipe = Pipeline([('preprocess', ct),\n",
    "                 ('ridge', Ridge(fit_intercept=False))])\n",
    "\n",
    "ridgeCV = GridSearchCV(pipe, param_grid=param_grid, cv=5)\n",
    "\n",
    "ridgeCV.fit(X_train, y_train)\n",
    "\n",
    "print(ridgeCV.score(X_test, y_test))"
   ]
  },
  {
   "cell_type": "code",
   "execution_count": null,
   "metadata": {},
   "outputs": [],
   "source": []
  }
 ],
 "metadata": {
  "kernelspec": {
   "display_name": "Python 3",
   "language": "python",
   "name": "python3"
  },
  "language_info": {
   "codemirror_mode": {
    "name": "ipython",
    "version": 3
   },
   "file_extension": ".py",
   "mimetype": "text/x-python",
   "name": "python",
   "nbconvert_exporter": "python",
   "pygments_lexer": "ipython3",
   "version": "3.8.5"
  }
 },
 "nbformat": 4,
 "nbformat_minor": 4
}
