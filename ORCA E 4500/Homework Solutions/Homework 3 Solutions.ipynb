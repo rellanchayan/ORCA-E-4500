{
 "cells": [
  {
   "cell_type": "code",
   "execution_count": 1,
   "metadata": {},
   "outputs": [],
   "source": [
    "import numpy as np\n",
    "import pandas as pd\n",
    "import scipy.stats as st\n",
    "\n",
    "from scipy.optimize import minimize "
   ]
  },
  {
   "cell_type": "code",
   "execution_count": 5,
   "metadata": {},
   "outputs": [
    {
     "name": "stdout",
     "output_type": "stream",
     "text": [
      "values    0.301835\n",
      "dtype: float64 values    0.258794\n",
      "dtype: float64 values    0.180013\n",
      "dtype: float64 values    0.423657\n",
      "dtype: float64\n"
     ]
    }
   ],
   "source": [
    "# problem 2\n",
    "df = pd.read_csv('normal_samples.csv', index_col=0)\n",
    "n = len(df)\n",
    "mu = np.mean(df)\n",
    "sigma_mle = np.std(df, ddof=0)\n",
    "sigma = np.std(df, ddof=1)\n",
    "# alternatively sigma = np.var(df, ddof=1)\n",
    "\n",
    "t_a_n = st.t.ppf( 0.95, df=(n-1))\n",
    "\n",
    "lower_ci = mu - t_a_n * sigma / np.sqrt(n)\n",
    "upper_ci = mu + t_a_n * sigma / np.sqrt(n)\n",
    "print(mu, sigma_mle, lower_ci, upper_ci)"
   ]
  },
  {
   "cell_type": "code",
   "execution_count": 8,
   "metadata": {},
   "outputs": [
    {
     "data": {
      "text/plain": [
       "(array([0.3422543 , 1.33184218, 3.07485365]),\n",
       " array([0.26363661, 1.15317247, 2.95435125]),\n",
       " array([0.42244286, 1.48735074, 3.20951916]))"
      ]
     },
     "execution_count": 8,
     "metadata": {},
     "output_type": "execute_result"
    }
   ],
   "source": [
    "# problem 3\n",
    "X = pd.read_csv('accidents.csv', index_col=0)\n",
    "X = X['values']\n",
    "\n",
    "def log_likelihood(x, p, l1, l2):\n",
    "    L = p * st.poisson.pmf(x, l1) + (1 - p) * st.poisson.pmf(x, l2)\n",
    "    l = np.log(L)\n",
    "    return np.sum(l)\n",
    "\n",
    "def find_mle(X):\n",
    "    l = lambda x: (-1) * log_likelihood(X, x[0], x[1], x[2])    \n",
    "    x0 = [0.5, 1, 2]\n",
    "    bds = ((0, 1.0), (0, None), (0, None))\n",
    "    res = minimize(l, x0, bounds=bds)\n",
    "    return res.x\n",
    "\n",
    "def boostrap_ci(X, m, alpha):\n",
    "    n = len(X)\n",
    "    Y = np.zeros((m,3))\n",
    "    x0 = find_mle(X)\n",
    "    for i in range(0,m):\n",
    "        X_resample = np.random.choice(X, replace=True, size=(n,))\n",
    "        Y[i,:] = find_mle(X_resample)\n",
    "    return (x0, np.percentile(Y, alpha/2.0, axis=0), np.percentile(Y, 100 - alpha/2, axis=0))\n",
    "\n",
    "boostrap_ci(X, 200, 5)"
   ]
  }
 ],
 "metadata": {
  "kernelspec": {
   "display_name": "Python 3",
   "language": "python",
   "name": "python3"
  },
  "language_info": {
   "codemirror_mode": {
    "name": "ipython",
    "version": 3
   },
   "file_extension": ".py",
   "mimetype": "text/x-python",
   "name": "python",
   "nbconvert_exporter": "python",
   "pygments_lexer": "ipython3",
   "version": "3.8.5"
  }
 },
 "nbformat": 4,
 "nbformat_minor": 4
}
