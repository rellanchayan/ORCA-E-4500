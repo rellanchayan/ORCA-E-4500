{
 "cells": [
  {
   "cell_type": "code",
   "execution_count": 1,
   "metadata": {},
   "outputs": [],
   "source": [
    "import numpy as np\n",
    "import pandas as pd\n",
    "import seaborn as sns\n",
    "import matplotlib.pyplot as plt\n",
    "from scipy.stats import norm, t, percentileofscore\n",
    "\n",
    "# sklearn Libraries\n",
    "from sklearn.model_selection import train_test_split,GridSearchCV\n",
    "from sklearn.pipeline import Pipeline\n",
    "from sklearn.linear_model import LogisticRegression\n",
    "from sklearn.compose import ColumnTransformer\n",
    "from sklearn.impute import SimpleImputer\n",
    "from sklearn.preprocessing import OneHotEncoder,KBinsDiscretizer,StandardScaler,PolynomialFeatures\n",
    "from sklearn.ensemble import RandomForestClassifier,GradientBoostingClassifier\n",
    "from sklearn.tree import DecisionTreeClassifier,ExtraTreeClassifier,plot_tree\n"
   ]
  },
  {
   "cell_type": "markdown",
   "metadata": {},
   "source": [
    "# Confidence Interval"
   ]
  },
  {
   "cell_type": "code",
   "execution_count": 2,
   "metadata": {},
   "outputs": [],
   "source": [
    "df = pd.read_csv('normal_samples.csv')\n",
    "normal_dist_values = df['values']"
   ]
  },
  {
   "cell_type": "code",
   "execution_count": 3,
   "metadata": {},
   "outputs": [],
   "source": [
    "def z_confidence_interval(df,sigma,alpha):\n",
    "    n = len(df)\n",
    "    sample_mean = np.mean(df)\n",
    "    z_alpha_2 = norm.ppf(1-alpha/2)\n",
    "    lower_bound = sample_mean - z_alpha_2*(sigma/np.sqrt(n))\n",
    "    upper_bound = sample_mean + z_alpha_2*(sigma/np.sqrt(n))\n",
    "    return (lower_bound,upper_bound)"
   ]
  },
  {
   "cell_type": "code",
   "execution_count": 4,
   "metadata": {},
   "outputs": [
    {
     "data": {
      "text/plain": [
       "(0.15001675953234475, 0.4536530743839432)"
      ]
     },
     "execution_count": 4,
     "metadata": {},
     "output_type": "execute_result"
    }
   ],
   "source": [
    "z_confidence_interval(normal_dist_values,0.3,0.05)"
   ]
  },
  {
   "cell_type": "code",
   "execution_count": 5,
   "metadata": {},
   "outputs": [],
   "source": [
    "def t_confidence_interval(df,alpha):\n",
    "    n = len(df)\n",
    "    sample_mean = np.mean(df)\n",
    "    sample_sd = np.std(df,ddof=1)\n",
    "    t_alpha_2 = t.ppf(1-alpha/2,n-1)\n",
    "    lower_bound = sample_mean - t_alpha_2*(sample_sd/np.sqrt(n))\n",
    "    upper_bound = sample_mean + t_alpha_2*(sample_sd/np.sqrt(n))\n",
    "    return (lower_bound,upper_bound)"
   ]
  },
  {
   "cell_type": "code",
   "execution_count": 6,
   "metadata": {},
   "outputs": [
    {
     "data": {
      "text/plain": [
       "(0.15348928571865278, 0.45018054819763514)"
      ]
     },
     "execution_count": 6,
     "metadata": {},
     "output_type": "execute_result"
    }
   ],
   "source": [
    "t_confidence_interval(normal_dist_values,alpha=0.05)"
   ]
  },
  {
   "cell_type": "code",
   "execution_count": 7,
   "metadata": {},
   "outputs": [],
   "source": [
    "def bootstrap_confidence_interval(df,alpha,m=100):\n",
    "    n = len(df)\n",
    "    sample = np.random.choice(df,replace=True,size=(m,n))\n",
    "    mle = np.mean(sample,axis=1)\n",
    "    lower_bound = np.percentile(mle,100*alpha/2)\n",
    "    upper_bound = np.percentile(mle,100*(1-alpha/2))\n",
    "    return (lower_bound,upper_bound)"
   ]
  },
  {
   "cell_type": "code",
   "execution_count": 8,
   "metadata": {},
   "outputs": [
    {
     "data": {
      "text/plain": [
       "(0.19499498131007714, 0.4145450069068181)"
      ]
     },
     "execution_count": 8,
     "metadata": {},
     "output_type": "execute_result"
    }
   ],
   "source": [
    "bootstrap_confidence_interval(normal_dist_values,0.05)"
   ]
  },
  {
   "cell_type": "code",
   "execution_count": 9,
   "metadata": {},
   "outputs": [
    {
     "data": {
      "text/plain": [
       "<AxesSubplot:xlabel='values', ylabel='Count'>"
      ]
     },
     "execution_count": 9,
     "metadata": {},
     "output_type": "execute_result"
    },
    {
     "data": {
      "image/png": "[encoded data removed]",
      "text/plain": [
       "<Figure size 432x288 with 1 Axes>"
      ]
     },
     "metadata": {
      "needs_background": "light"
     },
     "output_type": "display_data"
    }
   ],
   "source": [
    "from scipy.optimize import minimize \n",
    "from scipy.stats import poisson\n",
    "df2 = pd.read_csv('accidents.csv') \n",
    "dispersed_poisson_dist = df2['values'] \n",
    "sns.histplot(dispersed_poisson_dist)"
   ]
  },
  {
   "cell_type": "code",
   "execution_count": 10,
   "metadata": {},
   "outputs": [
    {
     "name": "stdout",
     "output_type": "stream",
     "text": [
      "Bootstrap Confidence Interval for Lambda_1 : (1.1523665185131682, 1.5111944425796708)\n",
      "Bootstrap Confidence Interval for Lambda_2 : (2.975879831025735, 3.173883226283826)\n",
      "Bootstrap Confidence Interval for p : (0.265263314265458, 0.4174404762973719)\n"
     ]
    }
   ],
   "source": [
    "def dispersed_poisson_log_likelihood(X,lam1,lam2,p):\n",
    "    likelihood = p*poisson.pmf(X,lam1) + (1-p)*poisson.pmf(X,lam2) \n",
    "    return (-1)*np.sum(np.log(likelihood))\n",
    "\n",
    "def bootstrap_CI(X,m,alpha): \n",
    "    n = len(X)\n",
    "    X_resample = np.random.choice(X, size=(m,n)) \n",
    "    mles = np.zeros((m,3))\n",
    "    for i in range(0, m):\n",
    "        f = lambda x: dispersed_poisson_log_likelihood(X_resample[i,:],lam1=x[0],lam2=x[ 1],p=x[2])\n",
    "        res = minimize(f, [1,2,0.5], bounds=((0, None), (0, None),(0,None)))\n",
    "        mles[i,:] = res.x\n",
    "    lower_bound = np.percentile(mles, 100*(alpha/2),axis=0) \n",
    "    upper_bound = np.percentile(mles, 100*(1-alpha/2),axis=0) \n",
    "    return (lower_bound, upper_bound, mles)\n",
    "\n",
    "lower,upper,mle = bootstrap_CI(dispersed_poisson_dist,m=100,alpha=0.05) \n",
    "#print(\"Maximum Likelihood Estimates for 100 samples :\\n\",mle) \n",
    "print(\"Bootstrap Confidence Interval for Lambda_1 :\",(lower[0],upper[0])) \n",
    "print(\"Bootstrap Confidence Interval for Lambda_2 :\",(lower[1],upper[1])) \n",
    "print(\"Bootstrap Confidence Interval for p :\",(lower[2],upper[2]))"
   ]
  },
  {
   "cell_type": "markdown",
   "metadata": {},
   "source": [
    "# Hypothesis Testing"
   ]
  },
  {
   "cell_type": "code",
   "execution_count": 11,
   "metadata": {},
   "outputs": [],
   "source": [
    "def hypo_test(df,alpha,sigma,mue_0=0):\n",
    "    n = len(df)\n",
    "    sample_mean = np.mean(df)\n",
    "    z_alpha_2 = norm.ppf(1-alpha/2)\n",
    "    lb = sample_mean - z_alpha_2*sigma/np.sqrt(n)\n",
    "    ub = sample_mean + z_alpha_2*sigma/np.sqrt(n)\n",
    "    p_value = 2*(1-norm.cdf((sample_mean-mue_0)/(sigma/np.sqrt(n))))\n",
    "    if p_value < alpha:\n",
    "        return ('Rejected',(lb,ub),p_value)\n",
    "    else:\n",
    "        return ('Not Rejected',(lb,ub),p_value)"
   ]
  },
  {
   "cell_type": "code",
   "execution_count": 12,
   "metadata": {},
   "outputs": [
    {
     "data": {
      "text/plain": [
       "('Rejected', (0.15001675953234475, 0.4536530743839432), 9.752354554604103e-05)"
      ]
     },
     "execution_count": 12,
     "metadata": {},
     "output_type": "execute_result"
    }
   ],
   "source": [
    "hypo_test(normal_dist_values,alpha=0.05,sigma=0.3)"
   ]
  },
  {
   "cell_type": "code",
   "execution_count": 13,
   "metadata": {},
   "outputs": [],
   "source": [
    "def hypo_test_t(df,alpha,mue_0=0):\n",
    "    n = len(df)\n",
    "    sample_mean = np.mean(df)\n",
    "    sample_sd = np.std(df,ddof=1)\n",
    "    t_alpha_2 = t.ppf(1-alpha/2,n-1)\n",
    "    lb = sample_mean - t_alpha_2*(sample_sd/np.sqrt(n))\n",
    "    ub = sample_mean + t_alpha_2*(sample_sd/np.sqrt(n))\n",
    "    p_value = 2*(1-t.cdf((sample_mean-mue_0)/(sample_sd/np.sqrt(n)),n-1))\n",
    "    if p_value < alpha:\n",
    "        return ('Rejected',(lb,ub),p_value)\n",
    "    else:\n",
    "        return ('Not Rejected',(lb,ub),p_value)"
   ]
  },
  {
   "cell_type": "code",
   "execution_count": 14,
   "metadata": {},
   "outputs": [
    {
     "data": {
      "text/plain": [
       "('Rejected', (0.15348928571865278, 0.45018054819763514), 0.0006483218183379602)"
      ]
     },
     "execution_count": 14,
     "metadata": {},
     "output_type": "execute_result"
    }
   ],
   "source": [
    "hypo_test_t(df=normal_dist_values,alpha=0.05)"
   ]
  },
  {
   "cell_type": "code",
   "execution_count": 15,
   "metadata": {},
   "outputs": [],
   "source": [
    "def hypo_test_bootstrap(df,alpha,m,mue_0=0):\n",
    "    n = len(df)\n",
    "    sample = np.random.choice(df,replace=True,size=(m,n))\n",
    "    mle = np.mean(sample,axis=1)\n",
    "    p_value = percentileofscore(mle,mue_0)/100\n",
    "    lb = np.percentile(mle,100*alpha/2)\n",
    "    ub = np.percentile(mle,100*(1-alpha/2))\n",
    "    if p_value < alpha:\n",
    "        return ('Rejected',(lb,ub),p_value)\n",
    "    else :\n",
    "        return ('Not Rejected',(lb,ub),p_value)\n"
   ]
  },
  {
   "cell_type": "code",
   "execution_count": 16,
   "metadata": {},
   "outputs": [
    {
     "data": {
      "text/plain": [
       "('Rejected', (0.15527012415817693, 0.42384027382885436), 0.0)"
      ]
     },
     "execution_count": 16,
     "metadata": {},
     "output_type": "execute_result"
    }
   ],
   "source": [
    "hypo_test_bootstrap(normal_dist_values,alpha=0.05,m=100)   "
   ]
  },
  {
   "cell_type": "markdown",
   "metadata": {},
   "source": [
    "# Regression Confidence and Prediction Intervals"
   ]
  },
  {
   "cell_type": "code",
   "execution_count": 17,
   "metadata": {},
   "outputs": [],
   "source": [
    "import matplotlib.pyplot as plt\n",
    "from scipy.stats import norm"
   ]
  },
  {
   "cell_type": "code",
   "execution_count": 18,
   "metadata": {},
   "outputs": [],
   "source": [
    "alpha = 1.0\n",
    "beta = 0.25\n",
    "n=30\n",
    "X = np.arange(1,n+1)\n",
    "eps = norm.rvs(loc=0,scale=1,size=(n,))"
   ]
  },
  {
   "cell_type": "code",
   "execution_count": 19,
   "metadata": {},
   "outputs": [],
   "source": [
    "Y = alpha+beta*X + eps"
   ]
  },
  {
   "cell_type": "code",
   "execution_count": 20,
   "metadata": {},
   "outputs": [
    {
     "data": {
      "text/plain": [
       "<matplotlib.collections.PathCollection at 0x7fded08394f0>"
      ]
     },
     "execution_count": 20,
     "metadata": {},
     "output_type": "execute_result"
    },
    {
     "data": {
      "image/png": "[encoded data removed]",
      "text/plain": [
       "<Figure size 432x288 with 1 Axes>"
      ]
     },
     "metadata": {
      "needs_background": "light"
     },
     "output_type": "display_data"
    }
   ],
   "source": [
    "plt.scatter(X,Y)"
   ]
  },
  {
   "cell_type": "code",
   "execution_count": 21,
   "metadata": {},
   "outputs": [],
   "source": [
    "df = pd.DataFrame(data={'x':X,'y':Y})"
   ]
  },
  {
   "cell_type": "code",
   "execution_count": 22,
   "metadata": {},
   "outputs": [],
   "source": [
    "def reg_coef(df):\n",
    "    X = df['x']\n",
    "    Y = df['y']\n",
    "    b = (np.sum(X*Y)-np.mean(X)*np.sum(Y))/(np.sum(X**2) - n*(np.mean(X)**2))\n",
    "    a = np.mean(Y) - b*np.mean(X)\n",
    "    return a,b\n",
    "    \n",
    "def residuals(df,alpha,beta):\n",
    "    X = df['x']\n",
    "    Y = df['y']\n",
    "    eps = Y-beta*X-alpha\n",
    "    return eps\n",
    "    \n",
    "    "
   ]
  },
  {
   "cell_type": "code",
   "execution_count": 23,
   "metadata": {},
   "outputs": [],
   "source": [
    "def bootstrap_CI(df,m,alpha,x0):\n",
    "    y_bs = np.zeros(shape=(m,))\n",
    "    for i in range(0,m):\n",
    "        df_resample = df.sample(n=len(df),replace=True)\n",
    "        alpha,beta = reg_coef(df_resample)\n",
    "        y_bs[i] = alpha + beta*x0\n",
    "    lower_bound = np.percentile(y_bs,100*(alpha/2))\n",
    "    upper_bound = np.percentile(y_bs,100*(1-alpha/2))\n",
    "    return (lower_bound,upper_bound)"
   ]
  },
  {
   "cell_type": "code",
   "execution_count": 24,
   "metadata": {},
   "outputs": [
    {
     "data": {
      "text/plain": [
       "(9.808181447342035, 9.331606573904507)"
      ]
     },
     "execution_count": 24,
     "metadata": {},
     "output_type": "execute_result"
    }
   ],
   "source": [
    "bootstrap_CI(df,100,0.05,31)"
   ]
  },
  {
   "cell_type": "code",
   "execution_count": 25,
   "metadata": {},
   "outputs": [],
   "source": [
    "def bootstrap_PI(df,m,alpha,x0):\n",
    "    y_bs = np.zeros(shape=(m,))\n",
    "    for i in range(0,m):\n",
    "        df_resample = df.sample(n=len(df),replace=True)\n",
    "        alpha,beta = reg_coef(df_resample)\n",
    "        eps = residuals(df_resample,alpha,beta)\n",
    "        y_bs[i] = alpha + beta*x0 + np.random.choice(eps)\n",
    "    lower_bound = np.percentile(y_bs,100*(alpha/2))\n",
    "    upper_bound = np.percentile(y_bs,100*(1-alpha/2))\n",
    "    return (lower_bound,upper_bound)"
   ]
  },
  {
   "cell_type": "code",
   "execution_count": 26,
   "metadata": {},
   "outputs": [
    {
     "data": {
      "text/plain": [
       "(9.703538394476155, 9.544104796844652)"
      ]
     },
     "execution_count": 26,
     "metadata": {},
     "output_type": "execute_result"
    }
   ],
   "source": [
    "bootstrap_PI(df,100,0.05,31)"
   ]
  },
  {
   "cell_type": "markdown",
   "metadata": {},
   "source": [
    "# Ordinary Least Squares"
   ]
  },
  {
   "cell_type": "code",
   "execution_count": 27,
   "metadata": {},
   "outputs": [],
   "source": [
    "from statsmodels.api import OLS\n",
    "from sklearn import datasets"
   ]
  },
  {
   "cell_type": "code",
   "execution_count": 28,
   "metadata": {},
   "outputs": [],
   "source": [
    "data = datasets.load_diabetes()"
   ]
  },
  {
   "cell_type": "code",
   "execution_count": 29,
   "metadata": {},
   "outputs": [],
   "source": [
    "X = pd.DataFrame(data=data['data'],columns=data['feature_names']).drop(['s1','s2','s3','s4','s5','s6'],axis=1)\n",
    "y = pd.DataFrame(data = data['target'],columns=['outcome'])\n"
   ]
  },
  {
   "cell_type": "code",
   "execution_count": 30,
   "metadata": {},
   "outputs": [],
   "source": [
    "lm = OLS(y,X)\n",
    "res = lm.fit()"
   ]
  },
  {
   "cell_type": "code",
   "execution_count": 31,
   "metadata": {},
   "outputs": [
    {
     "data": {
      "text/html": [
       "<table class=\"simpletable\">\n",
       "<caption>OLS Regression Results</caption>\n",
       "<tr>\n",
       "  <th>Dep. Variable:</th>         <td>outcome</td>     <th>  R-squared (uncentered):</th>      <td>   0.082</td>\n",
       "</tr>\n",
       "<tr>\n",
       "  <th>Model:</th>                   <td>OLS</td>       <th>  Adj. R-squared (uncentered):</th> <td>   0.073</td>\n",
       "</tr>\n",
       "<tr>\n",
       "  <th>Method:</th>             <td>Least Squares</td>  <th>  F-statistic:       </th>          <td>   9.734</td>\n",
       "</tr>\n",
       "<tr>\n",
       "  <th>Date:</th>             <td>Mon, 19 Apr 2021</td> <th>  Prob (F-statistic):</th>          <td>1.50e-07</td>\n",
       "</tr>\n",
       "<tr>\n",
       "  <th>Time:</th>                 <td>15:35:11</td>     <th>  Log-Likelihood:    </th>          <td> -2879.7</td>\n",
       "</tr>\n",
       "<tr>\n",
       "  <th>No. Observations:</th>      <td>   442</td>      <th>  AIC:               </th>          <td>   5767.</td>\n",
       "</tr>\n",
       "<tr>\n",
       "  <th>Df Residuals:</th>          <td>   438</td>      <th>  BIC:               </th>          <td>   5784.</td>\n",
       "</tr>\n",
       "<tr>\n",
       "  <th>Df Model:</th>              <td>     4</td>      <th>                     </th>              <td> </td>   \n",
       "</tr>\n",
       "<tr>\n",
       "  <th>Covariance Type:</th>      <td>nonrobust</td>    <th>                     </th>              <td> </td>   \n",
       "</tr>\n",
       "</table>\n",
       "<table class=\"simpletable\">\n",
       "<tr>\n",
       "   <td></td>      <th>coef</th>     <th>std err</th>      <th>t</th>      <th>P>|t|</th>  <th>[0.025</th>    <th>0.975]</th>  \n",
       "</tr>\n",
       "<tr>\n",
       "  <th>age</th> <td>   37.2412</td> <td>  175.485</td> <td>    0.212</td> <td> 0.832</td> <td> -307.655</td> <td>  382.138</td>\n",
       "</tr>\n",
       "<tr>\n",
       "  <th>sex</th> <td> -106.5775</td> <td>  170.032</td> <td>   -0.627</td> <td> 0.531</td> <td> -440.757</td> <td>  227.602</td>\n",
       "</tr>\n",
       "<tr>\n",
       "  <th>bmi</th> <td>  787.1793</td> <td>  179.061</td> <td>    4.396</td> <td> 0.000</td> <td>  435.254</td> <td> 1139.105</td>\n",
       "</tr>\n",
       "<tr>\n",
       "  <th>bp</th>  <td>  416.6738</td> <td>  190.202</td> <td>    2.191</td> <td> 0.029</td> <td>   42.852</td> <td>  790.495</td>\n",
       "</tr>\n",
       "</table>\n",
       "<table class=\"simpletable\">\n",
       "<tr>\n",
       "  <th>Omnibus:</th>       <td> 9.858</td> <th>  Durbin-Watson:     </th> <td>   0.258</td>\n",
       "</tr>\n",
       "<tr>\n",
       "  <th>Prob(Omnibus):</th> <td> 0.007</td> <th>  Jarque-Bera (JB):  </th> <td>   6.464</td>\n",
       "</tr>\n",
       "<tr>\n",
       "  <th>Skew:</th>          <td> 0.146</td> <th>  Prob(JB):          </th> <td>  0.0395</td>\n",
       "</tr>\n",
       "<tr>\n",
       "  <th>Kurtosis:</th>      <td> 2.485</td> <th>  Cond. No.          </th> <td>    1.78</td>\n",
       "</tr>\n",
       "</table><br/><br/>Notes:<br/>[1] R² is computed without centering (uncentered) since the model does not contain a constant.<br/>[2] Standard Errors assume that the covariance matrix of the errors is correctly specified."
      ],
      "text/plain": [
       "<class 'statsmodels.iolib.summary.Summary'>\n",
       "\"\"\"\n",
       "                                 OLS Regression Results                                \n",
       "=======================================================================================\n",
       "Dep. Variable:                outcome   R-squared (uncentered):                   0.082\n",
       "Model:                            OLS   Adj. R-squared (uncentered):              0.073\n",
       "Method:                 Least Squares   F-statistic:                              9.734\n",
       "Date:                Mon, 19 Apr 2021   Prob (F-statistic):                    1.50e-07\n",
       "Time:                        15:35:11   Log-Likelihood:                         -2879.7\n",
       "No. Observations:                 442   AIC:                                      5767.\n",
       "Df Residuals:                     438   BIC:                                      5784.\n",
       "Df Model:                           4                                                  \n",
       "Covariance Type:            nonrobust                                                  \n",
       "==============================================================================\n",
       "                 coef    std err          t      P>|t|      [0.025      0.975]\n",
       "------------------------------------------------------------------------------\n",
       "age           37.2412    175.485      0.212      0.832    -307.655     382.138\n",
       "sex         -106.5775    170.032     -0.627      0.531    -440.757     227.602\n",
       "bmi          787.1793    179.061      4.396      0.000     435.254    1139.105\n",
       "bp           416.6738    190.202      2.191      0.029      42.852     790.495\n",
       "==============================================================================\n",
       "Omnibus:                        9.858   Durbin-Watson:                   0.258\n",
       "Prob(Omnibus):                  0.007   Jarque-Bera (JB):                6.464\n",
       "Skew:                           0.146   Prob(JB):                       0.0395\n",
       "Kurtosis:                       2.485   Cond. No.                         1.78\n",
       "==============================================================================\n",
       "\n",
       "Notes:\n",
       "[1] R² is computed without centering (uncentered) since the model does not contain a constant.\n",
       "[2] Standard Errors assume that the covariance matrix of the errors is correctly specified.\n",
       "\"\"\""
      ]
     },
     "execution_count": 31,
     "metadata": {},
     "output_type": "execute_result"
    }
   ],
   "source": [
    "res.summary()"
   ]
  },
  {
   "cell_type": "markdown",
   "metadata": {},
   "source": [
    "# Machine Learning"
   ]
  },
  {
   "cell_type": "code",
   "execution_count": 32,
   "metadata": {},
   "outputs": [],
   "source": [
    "df = pd.read_csv('titanic.csv',index_col=0)"
   ]
  },
  {
   "cell_type": "code",
   "execution_count": 33,
   "metadata": {},
   "outputs": [],
   "source": [
    "y = df['Survived']\n",
    "cat_cols = ['Pclass','Sex']\n",
    "cont_cols = ['SibSp','Parch','Fare']\n",
    "ord_cols = ['Age']\n",
    "X = df[cat_cols+cont_cols+ord_cols]"
   ]
  },
  {
   "cell_type": "code",
   "execution_count": 34,
   "metadata": {},
   "outputs": [],
   "source": [
    "X_train,X_test,y_train,y_test = train_test_split(X,y,test_size=0.2,stratify=y,random_state=42)"
   ]
  },
  {
   "cell_type": "markdown",
   "metadata": {},
   "source": [
    "# Feature Engineering and Data Preprocessing"
   ]
  },
  {
   "cell_type": "code",
   "execution_count": 35,
   "metadata": {},
   "outputs": [],
   "source": [
    "cat_pipe = Pipeline([('oh',OneHotEncoder(handle_unknown='ignore'))])\n",
    "cont_pipe = Pipeline([('pf',PolynomialFeatures()),\n",
    "                      ('scale',StandardScaler())\n",
    "                     ])\n",
    "ord_pipe = Pipeline([('impute',SimpleImputer(strategy='median')),\n",
    "                    ('bin',KBinsDiscretizer(n_bins=5,strategy='uniform'))\n",
    "                    ])\n",
    "ct = ColumnTransformer([('cat',cat_pipe,cat_cols),\n",
    "                       ('cont',cont_pipe,cont_cols),\n",
    "                       ('ord',ord_pipe,ord_cols)\n",
    "                       ])"
   ]
  },
  {
   "cell_type": "markdown",
   "metadata": {},
   "source": [
    "# Logistic Regression"
   ]
  },
  {
   "cell_type": "code",
   "execution_count": 36,
   "metadata": {},
   "outputs": [
    {
     "data": {
      "text/plain": [
       "-0.1425772940307229"
      ]
     },
     "execution_count": 36,
     "metadata": {},
     "output_type": "execute_result"
    }
   ],
   "source": [
    "params = {'logreg__C':np.logspace(-1,2,20),\n",
    "             'ct__cont__pf__degree':[1,2,3,4]\n",
    "             }\n",
    "logreg_pipe = Pipeline([('ct',ct),\n",
    "                ('logreg',LogisticRegression(max_iter=1500))\n",
    "                ])\n",
    "logreg_cv = GridSearchCV(logreg_pipe,param_grid=params,cv=10,scoring='neg_brier_score')\n",
    "logreg_cv.fit(X_train,y_train)\n",
    "logreg_cv.score(X_test,y_test)"
   ]
  },
  {
   "cell_type": "markdown",
   "metadata": {},
   "source": [
    "# Decision Tree Classifier"
   ]
  },
  {
   "cell_type": "code",
   "execution_count": 37,
   "metadata": {},
   "outputs": [
    {
     "data": {
      "text/plain": [
       "-0.13295991447154487"
      ]
     },
     "execution_count": 37,
     "metadata": {},
     "output_type": "execute_result"
    }
   ],
   "source": [
    "params = {'dt__max_depth':np.arange(1,10,1),\n",
    "          'dt__min_samples_split':np.arange(2,10,2),\n",
    "          'dt__min_samples_leaf':np.arange(1,5,1),\n",
    "          'ct__cont__pf__degree':[1,2,3,4]\n",
    "         }\n",
    "dt_pipe = Pipeline([('ct',ct),\n",
    "                ('dt',DecisionTreeClassifier())\n",
    "                ])\n",
    "dt_cv = GridSearchCV(dt_pipe,param_grid=params,cv=5,scoring='neg_brier_score')\n",
    "dt_cv.fit(X_train,y_train)\n",
    "dt_cv.score(X_test,y_test)"
   ]
  },
  {
   "cell_type": "code",
   "execution_count": 38,
   "metadata": {},
   "outputs": [
    {
     "data": {
      "text/plain": [
       "{'ct__cont__pf__degree': 1,\n",
       " 'dt__max_depth': 5,\n",
       " 'dt__min_samples_leaf': 1,\n",
       " 'dt__min_samples_split': 8}"
      ]
     },
     "execution_count": 38,
     "metadata": {},
     "output_type": "execute_result"
    }
   ],
   "source": [
    "dt_cv.best_params_"
   ]
  },
  {
   "cell_type": "markdown",
   "metadata": {},
   "source": [
    "# Gradient Boosted Classifier"
   ]
  },
  {
   "cell_type": "code",
   "execution_count": 39,
   "metadata": {},
   "outputs": [
    {
     "data": {
      "text/plain": [
       "-0.1423330961820393"
      ]
     },
     "execution_count": 39,
     "metadata": {},
     "output_type": "execute_result"
    }
   ],
   "source": [
    "params = {'gbt__max_depth':np.arange(1,10,1),\n",
    "          'gbt__min_samples_split':np.arange(2,10,2),\n",
    "          'gbt__min_samples_leaf':np.arange(1,5,1),\n",
    "          'ct__cont__pf__degree':[1,2,3,4],\n",
    "         }\n",
    "gbt_pipe = Pipeline([('ct',ct),\n",
    "                ('gbt',GradientBoostingClassifier())\n",
    "                ])\n",
    "gbt_cv = GridSearchCV(gbt_pipe,param_grid=params,cv=5,scoring='neg_brier_score')\n",
    "gbt_cv.fit(X_train,y_train)\n",
    "gbt_cv.score(X_test,y_test)"
   ]
  },
  {
   "cell_type": "code",
   "execution_count": 40,
   "metadata": {},
   "outputs": [
    {
     "data": {
      "text/plain": [
       "{'ct__cont__pf__degree': 1,\n",
       " 'gbt__max_depth': 2,\n",
       " 'gbt__min_samples_leaf': 1,\n",
       " 'gbt__min_samples_split': 2}"
      ]
     },
     "execution_count": 40,
     "metadata": {},
     "output_type": "execute_result"
    }
   ],
   "source": [
    "gbt_cv.best_params_"
   ]
  }
 ],
 "metadata": {
  "kernelspec": {
   "display_name": "Python 3",
   "language": "python",
   "name": "python3"
  },
  "language_info": {
   "codemirror_mode": {
    "name": "ipython",
    "version": 3
   },
   "file_extension": ".py",
   "mimetype": "text/x-python",
   "name": "python",
   "nbconvert_exporter": "python",
   "pygments_lexer": "ipython3",
   "version": "3.8.5"
  }
 },
 "nbformat": 4,
 "nbformat_minor": 4
}
