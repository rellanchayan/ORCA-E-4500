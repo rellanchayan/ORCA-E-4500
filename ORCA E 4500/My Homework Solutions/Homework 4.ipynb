{
 "cells": [
  {
   "cell_type": "markdown",
   "metadata": {},
   "source": [
    "# ORCA 4500 : Foundations of Data Science (Homework 4)"
   ]
  },
  {
   "cell_type": "code",
   "execution_count": 2,
   "metadata": {},
   "outputs": [],
   "source": [
    "import pandas as pd\n",
    "import numpy as np\n",
    "import seaborn as sns\n",
    "from scipy import stats\n",
    "sns.set()"
   ]
  },
  {
   "cell_type": "markdown",
   "metadata": {},
   "source": [
    "Problem - 1"
   ]
  },
  {
   "cell_type": "code",
   "execution_count": 3,
   "metadata": {},
   "outputs": [
    {
     "data": {
      "text/plain": [
       "0.906"
      ]
     },
     "execution_count": 3,
     "metadata": {},
     "output_type": "execute_result"
    }
   ],
   "source": [
    "def s_square_hypo_test(mue,sigma,n,m,alpha):\n",
    "    C = stats.chi2.ppf(1-(alpha/100),n-1)/(10-1)\n",
    "    random = stats.norm.rvs(scale=sigma,loc=mue,size=(m,n))\n",
    "    S_squared = np.var(random,axis=1,ddof=1)\n",
    "    mean_value = np.mean(S_squared>C)\n",
    "    return mean_value\n",
    "\n",
    "s_square_hypo_test(mue=0,sigma=2,n=10,m=1000,alpha=5)"
   ]
  },
  {
   "cell_type": "markdown",
   "metadata": {},
   "source": [
    "Problem - 2"
   ]
  },
  {
   "cell_type": "code",
   "execution_count": 4,
   "metadata": {},
   "outputs": [
    {
     "data": {
      "text/plain": [
       "<AxesSubplot:xlabel='values', ylabel='Count'>"
      ]
     },
     "execution_count": 4,
     "metadata": {},
     "output_type": "execute_result"
    },
    {
     "data": {
      "image/png": "[encoded data removed]",
      "text/plain": [
       "<Figure size 432x288 with 1 Axes>"
      ]
     },
     "metadata": {},
     "output_type": "display_data"
    }
   ],
   "source": [
    "df = pd.read_csv('normal_samples.csv')\n",
    "normal_dist_values = df['values']\n",
    "sns.histplot(normal_dist_values)"
   ]
  },
  {
   "cell_type": "code",
   "execution_count": 5,
   "metadata": {},
   "outputs": [
    {
     "name": "stdout",
     "output_type": "stream",
     "text": [
      "-0.1518181574257992 0.1518181574257992\n"
     ]
    },
    {
     "data": {
      "text/plain": [
       "'Null Hypothesis Rejected'"
      ]
     },
     "execution_count": 5,
     "metadata": {},
     "output_type": "execute_result"
    }
   ],
   "source": [
    "# When sigma is known \n",
    "\n",
    "def hypo_test_norm(dist,alpha,pop_mean=0,sigma=0.3):\n",
    "    n = len(dist)\n",
    "    sample_mean = np.mean(dist)\n",
    "    z_alpha_2 = stats.norm.ppf(1-alpha/(2*100))\n",
    "    lower_bound = pop_mean - z_alpha_2*sigma / np.sqrt(n)\n",
    "    upper_bound = pop_mean + z_alpha_2*sigma / np.sqrt(n)\n",
    "    print(lower_bound,upper_bound)\n",
    "    if sample_mean>upper_bound or sample_mean<lower_bound :\n",
    "        return(\"Null Hypothesis Rejected\") \n",
    "    else:\n",
    "        return(\"Failed to reject the Null Hypothesis\")\n",
    "        \n",
    "hypo_test_norm(normal_dist_values,alpha=5)"
   ]
  },
  {
   "cell_type": "code",
   "execution_count": 6,
   "metadata": {},
   "outputs": [
    {
     "name": "stdout",
     "output_type": "stream",
     "text": [
      "0.14834563123949118 -0.14834563123949118\n"
     ]
    },
    {
     "data": {
      "text/plain": [
       "'Null Hypothesis Rejected'"
      ]
     },
     "execution_count": 6,
     "metadata": {},
     "output_type": "execute_result"
    }
   ],
   "source": [
    "# When sigma is unknown \n",
    "\n",
    "def hypo_test_t(dist,alpha,pop_mean=0):\n",
    "    n = len(dist)\n",
    "    sample_mean = np.mean(dist)\n",
    "    t_alpha_2 = stats.t.ppf(1-alpha/2,n-1)\n",
    "    lower_bound = pop_mean - t_alpha_2*(np.std(dist,ddof=1))/np.sqrt(n)\n",
    "    upper_bound = pop_mean + t_alpha_2*(np.std(dist,ddof=1))/np.sqrt(n)\n",
    "    print(upper_bound,lower_bound)\n",
    "    if sample_mean>upper_bound or sample_mean<lower_bound :\n",
    "        return(\"Null Hypothesis Rejected\") \n",
    "    else:\n",
    "        return(\"Failed to reject the Null Hypothesis\")\n",
    "    \n",
    "        \n",
    "hypo_test_t(normal_dist_values,alpha=0.05)"
   ]
  },
  {
   "cell_type": "markdown",
   "metadata": {},
   "source": [
    "Problem - 3"
   ]
  },
  {
   "cell_type": "code",
   "execution_count": 7,
   "metadata": {},
   "outputs": [
    {
     "data": {
      "text/plain": [
       "<AxesSubplot:xlabel='values', ylabel='Count'>"
      ]
     },
     "execution_count": 7,
     "metadata": {},
     "output_type": "execute_result"
    },
    {
     "data": {
      "image/png": "[encoded data removed]",
      "text/plain": [
       "<Figure size 432x288 with 1 Axes>"
      ]
     },
     "metadata": {},
     "output_type": "display_data"
    }
   ],
   "source": [
    "df2 = pd.read_csv('accidents.csv')\n",
    "accidents = df2['values']\n",
    "sns.histplot(accidents)"
   ]
  },
  {
   "cell_type": "code",
   "execution_count": 8,
   "metadata": {},
   "outputs": [
    {
     "name": "stdout",
     "output_type": "stream",
     "text": [
      "0.83\n"
     ]
    },
    {
     "data": {
      "text/plain": [
       "(False, 0.83)"
      ]
     },
     "execution_count": 8,
     "metadata": {},
     "output_type": "execute_result"
    }
   ],
   "source": [
    "from scipy.stats import percentileofscore\n",
    "\n",
    "def bootstrap_hypo_test(X,alpha,m=100,mue_0=2.5):\n",
    "    n = len(X)\n",
    "    X_resample = np.random.choice(X, size=(m,n))\n",
    "    mles = np.mean(X_resample,axis=1)\n",
    "    p = percentileofscore(mles,mue_0)/100\n",
    "    print(p)\n",
    "    lower_bound = np.percentile(mles,alpha,axis=0)\n",
    "    if mue_0 < lower_bound:\n",
    "        return (True,p)\n",
    "    else:\n",
    "        return (False,p)\n",
    "    \n",
    "bootstrap_hypo_test(accidents,alpha=5)\n",
    "\n"
   ]
  },
  {
   "cell_type": "code",
   "execution_count": null,
   "metadata": {},
   "outputs": [],
   "source": []
  }
 ],
 "metadata": {
  "kernelspec": {
   "display_name": "Python 3",
   "language": "python",
   "name": "python3"
  },
  "language_info": {
   "codemirror_mode": {
    "name": "ipython",
    "version": 3
   },
   "file_extension": ".py",
   "mimetype": "text/x-python",
   "name": "python",
   "nbconvert_exporter": "python",
   "pygments_lexer": "ipython3",
   "version": "3.8.5"
  }
 },
 "nbformat": 4,
 "nbformat_minor": 4
}
