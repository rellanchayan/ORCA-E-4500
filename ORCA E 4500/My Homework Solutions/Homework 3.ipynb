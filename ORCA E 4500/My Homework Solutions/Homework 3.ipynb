{
 "cells": [
  {
   "cell_type": "markdown",
   "metadata": {},
   "source": [
    "# ORCA 4500 : Foundations of Data Science (Homework - 3)"
   ]
  },
  {
   "cell_type": "markdown",
   "metadata": {},
   "source": [
    "Importing Libraries"
   ]
  },
  {
   "cell_type": "code",
   "execution_count": 1,
   "metadata": {},
   "outputs": [],
   "source": [
    "import pandas as pd\n",
    "import numpy as np\n",
    "import seaborn as sns\n",
    "from scipy import stats\n",
    "from scipy.stats import poisson\n",
    "sns.set()"
   ]
  },
  {
   "cell_type": "markdown",
   "metadata": {},
   "source": [
    "Problem 2"
   ]
  },
  {
   "cell_type": "code",
   "execution_count": 2,
   "metadata": {},
   "outputs": [
    {
     "data": {
      "text/plain": [
       "<AxesSubplot:xlabel='values', ylabel='Count'>"
      ]
     },
     "execution_count": 2,
     "metadata": {},
     "output_type": "execute_result"
    },
    {
     "data": {
      "image/png": "[encoded data removed]",
      "text/plain": [
       "<Figure size 432x288 with 1 Axes>"
      ]
     },
     "metadata": {},
     "output_type": "display_data"
    }
   ],
   "source": [
    "df = pd.read_csv('normal_samples.csv')\n",
    "normal_dist_values = df['values']\n",
    "sns.histplot(normal_dist_values)"
   ]
  },
  {
   "cell_type": "code",
   "execution_count": 3,
   "metadata": {},
   "outputs": [
    {
     "name": "stdout",
     "output_type": "stream",
     "text": [
      "The t interval is :  (0.18001270248244733, 0.4236571314338406)\n"
     ]
    }
   ],
   "source": [
    "def CI_normal_dist(dist,alpha):\n",
    "    n = len(normal_dist_values)\n",
    "    mle_mue = np.mean(dist)\n",
    "    mle_sigma = np.std(dist)\n",
    "    t_alpha_2 = stats.t.ppf(1-alpha/2,n-1)\n",
    "    lower_bound = np.mean(dist) - t_alpha_2*(np.std(dist,ddof=1))/np.sqrt(n)\n",
    "    upper_bound = np.mean(dist) + t_alpha_2*(np.std(dist,ddof=1))/np.sqrt(n)\n",
    "    return (lower_bound,upper_bound)\n",
    "\n",
    "print(\"The t interval is : \",CI_normal_dist(normal_dist_values,0.10))"
   ]
  },
  {
   "cell_type": "markdown",
   "metadata": {},
   "source": [
    "Problem 3"
   ]
  },
  {
   "cell_type": "code",
   "execution_count": 4,
   "metadata": {},
   "outputs": [
    {
     "data": {
      "text/plain": [
       "<AxesSubplot:xlabel='values', ylabel='Count'>"
      ]
     },
     "execution_count": 4,
     "metadata": {},
     "output_type": "execute_result"
    },
    {
     "data": {
      "image/png": "[encoded data removed]",
      "text/plain": [
       "<Figure size 432x288 with 1 Axes>"
      ]
     },
     "metadata": {},
     "output_type": "display_data"
    }
   ],
   "source": [
    "from scipy.optimize import minimize\n",
    "df2 = pd.read_csv('accidents.csv')\n",
    "dispersed_poisson_dist = df2['values']\n",
    "sns.histplot(dispersed_poisson_dist)"
   ]
  },
  {
   "cell_type": "code",
   "execution_count": 5,
   "metadata": {},
   "outputs": [
    {
     "name": "stdout",
     "output_type": "stream",
     "text": [
      "Maximum Likelihood Estimates for 100 samples :\n",
      " [[1.24367458 3.02233024 0.30749637]\n",
      " [1.38479098 3.1237869  0.3777975 ]\n",
      " [1.31341725 2.97195685 0.29460014]\n",
      " [1.38837923 3.11860371 0.38590629]\n",
      " [1.33392528 3.1608828  0.3672684 ]\n",
      " [1.13232205 2.98054757 0.27991744]\n",
      " [1.22991094 3.04495919 0.32438029]\n",
      " [1.32466664 3.05915907 0.3490136 ]\n",
      " [1.43427337 3.14825341 0.39455137]\n",
      " [1.34216117 3.04265699 0.3287555 ]\n",
      " [1.36481285 3.20803811 0.39427599]\n",
      " [1.46629946 3.17329882 0.41159873]\n",
      " [1.20331475 2.97004665 0.27080863]\n",
      " [1.34662158 3.1254909  0.35921321]\n",
      " [1.23136102 3.00364666 0.29698781]\n",
      " [1.11482354 2.92970347 0.24750856]\n",
      " [1.35669092 3.10015525 0.33820819]\n",
      " [1.39946216 3.17101646 0.39452217]\n",
      " [1.28583983 3.08436947 0.33380499]\n",
      " [1.36657509 3.11665785 0.35653093]\n",
      " [1.36174094 3.06955872 0.35042352]\n",
      " [1.33319705 3.07339436 0.33271411]\n",
      " [1.3160732  3.02221392 0.31826594]\n",
      " [1.40680339 3.19084629 0.3900391 ]\n",
      " [1.24609255 3.01926219 0.31060874]\n",
      " [1.36859651 3.06548008 0.34697765]\n",
      " [1.37943787 3.11514484 0.36955887]\n",
      " [1.25341428 2.9898812  0.30785868]\n",
      " [1.33785423 3.07259291 0.35722643]\n",
      " [1.23635626 3.01408767 0.30605734]\n",
      " [1.38404639 3.11737619 0.36091041]\n",
      " [1.34890009 3.07889336 0.36826468]\n",
      " [1.18456052 2.97905915 0.27359401]\n",
      " [1.33546683 3.04690148 0.33801627]\n",
      " [1.33737754 3.02326952 0.33730964]\n",
      " [1.2296331  3.04870307 0.31884486]\n",
      " [1.46600249 3.04973343 0.38329528]\n",
      " [1.13393181 2.99363359 0.26909257]\n",
      " [1.41433272 3.08644606 0.35813703]\n",
      " [1.244492   3.03219871 0.31565506]\n",
      " [1.29861533 3.05870019 0.3278238 ]\n",
      " [1.50124293 3.15827854 0.39889024]\n",
      " [1.2191628  3.06871072 0.31288916]\n",
      " [1.24717223 3.00698026 0.30968147]\n",
      " [1.47785791 3.14991931 0.39838185]\n",
      " [1.26042615 2.9666     0.29024391]\n",
      " [1.36772823 3.14707522 0.3601188 ]\n",
      " [1.30760975 3.12300577 0.35000975]\n",
      " [1.34057302 3.10376665 0.36636256]\n",
      " [1.19346125 3.06138959 0.32307401]\n",
      " [1.30280048 3.09042873 0.33666307]\n",
      " [1.36062437 3.11876747 0.36997462]\n",
      " [1.21715551 3.00532302 0.29836344]\n",
      " [1.21771591 3.03805687 0.30316109]\n",
      " [1.39701713 3.10272175 0.37803931]\n",
      " [1.35743287 3.10539826 0.35858823]\n",
      " [1.34121383 3.10046832 0.35183594]\n",
      " [1.43715618 3.12928835 0.37211832]\n",
      " [1.09320174 3.00655051 0.27509328]\n",
      " [1.40462291 3.17590582 0.37617176]\n",
      " [1.43586596 3.24798879 0.4364449 ]\n",
      " [1.32161783 3.01134912 0.30842073]\n",
      " [1.33438065 3.01307128 0.32225754]\n",
      " [1.10717263 2.93248994 0.26844066]\n",
      " [1.43015738 3.17344686 0.40219751]\n",
      " [1.32032458 3.040023   0.33449111]\n",
      " [1.25972189 3.02772657 0.3116663 ]\n",
      " [1.40267168 3.07000885 0.35782136]\n",
      " [1.32908431 3.08747075 0.34217214]\n",
      " [1.38118848 3.06904686 0.36735887]\n",
      " [1.44259629 3.1454527  0.39254556]\n",
      " [1.42783761 3.15122959 0.40381367]\n",
      " [1.25603303 3.02010997 0.31643324]\n",
      " [1.34698128 3.10824411 0.35249974]\n",
      " [1.29941308 3.06478477 0.33753882]\n",
      " [1.12710127 2.95430132 0.27534381]\n",
      " [1.43811906 3.19805879 0.41237683]\n",
      " [1.38207898 3.15424841 0.38701263]\n",
      " [1.43318735 3.17089417 0.38135653]\n",
      " [1.29475475 3.0268728  0.32196009]\n",
      " [1.33907237 3.06046182 0.33714495]\n",
      " [1.28444883 3.03000107 0.3212172 ]\n",
      " [1.19378485 2.98744307 0.28820778]\n",
      " [1.37453219 3.09686277 0.37859487]\n",
      " [1.34175639 3.06285008 0.33324609]\n",
      " [1.31946788 3.1125045  0.33273311]\n",
      " [1.33108954 3.12409091 0.35041355]\n",
      " [1.25031232 3.02086359 0.32258806]\n",
      " [1.20327867 3.02677558 0.29985019]\n",
      " [1.32727505 3.13616706 0.36230392]\n",
      " [1.35617407 3.09130264 0.35317478]\n",
      " [1.5253319  3.30044453 0.44467299]\n",
      " [1.3510219  3.08738261 0.34536776]\n",
      " [1.44933932 3.16935305 0.40776017]\n",
      " [1.17503274 2.95995378 0.27455212]\n",
      " [1.42875587 3.13894846 0.39179683]\n",
      " [1.30303093 3.04747924 0.3454813 ]\n",
      " [1.42378072 3.08474602 0.36800727]\n",
      " [1.35213138 3.0766317  0.35020686]\n",
      " [1.39209127 3.18884716 0.3978544 ]]\n",
      "Bootstrap Confidence Interval for Lambda_1 : (1.1206554577992636, 1.4723676486722899)\n",
      "Bootstrap Confidence Interval for Lambda_2 : (2.9569862389590518, 3.203297933688214)\n",
      "Bootstrap Confidence Interval for p : (0.2699076995517432, 0.4120072339954207)\n"
     ]
    }
   ],
   "source": [
    "def dispersed_poisson_log_likelihood(X,lam1,lam2,p):\n",
    "    likelihood = p*poisson.pmf(X,lam1) + (1-p)*poisson.pmf(X,lam2)\n",
    "    return (-1)*np.sum(np.log(likelihood))\n",
    "\n",
    "def bootstrap_CI(X,m,alpha):\n",
    "    n = len(X)\n",
    "    X_resample = np.random.choice(X, size=(m,n))\n",
    "    mles = np.zeros((m,3))\n",
    "    for i in range(0, m):\n",
    "        f = lambda x: dispersed_poisson_log_likelihood(X_resample[i,:],lam1=x[0],lam2=x[1],p=x[2])\n",
    "        res = minimize(f, [1,2,0.5], bounds=((0, None), (0, None),(0,None)))\n",
    "        mles[i,:] = res.x\n",
    "    lower_bound = np.percentile(mles, alpha / 2, axis=0)\n",
    "    upper_bound = np.percentile(mles, 100 - alpha / 2, axis=0)\n",
    "    return (lower_bound, upper_bound, mles)\n",
    "\n",
    "lower,upper,mle = bootstrap_CI(dispersed_poisson_dist,m=100,alpha=5)\n",
    "print(\"Maximum Likelihood Estimates for 100 samples :\\n\",mle)\n",
    "print(\"Bootstrap Confidence Interval for Lambda_1 :\",(lower[0],upper[0]))\n",
    "print(\"Bootstrap Confidence Interval for Lambda_2 :\",(lower[1],upper[1]))\n",
    "print(\"Bootstrap Confidence Interval for p :\",(lower[2],upper[2]))"
   ]
  }
 ],
 "metadata": {
  "kernelspec": {
   "display_name": "Python 3",
   "language": "python",
   "name": "python3"
  },
  "language_info": {
   "codemirror_mode": {
    "name": "ipython",
    "version": 3
   },
   "file_extension": ".py",
   "mimetype": "text/x-python",
   "name": "python",
   "nbconvert_exporter": "python",
   "pygments_lexer": "ipython3",
   "version": "3.8.5"
  }
 },
 "nbformat": 4,
 "nbformat_minor": 4
}
