{
 "cells": [
  {
   "cell_type": "markdown",
   "metadata": {},
   "source": [
    "# ORCA 4500 : Foundations of Data Science (Homework 1)"
   ]
  },
  {
   "cell_type": "code",
   "execution_count": 3,
   "metadata": {},
   "outputs": [],
   "source": [
    "import pandas as pd\n",
    "import numpy as np\n",
    "import matplotlib.pyplot as plt\n",
    "import seaborn as sns\n",
    "sns.set()"
   ]
  },
  {
   "cell_type": "markdown",
   "metadata": {},
   "source": [
    "Question 1 : Load RAW_us_deaths.csv and RAW_us_confirmed_cases.csv (they can be found in homework_1 in files on courseworks) into pandas dataframes. Each row in these dataframes contains the timeseries of cumulatives deaths\n",
    "and cases for a municipality, in addition to some information about the city (lat, long/ region, etc)."
   ]
  },
  {
   "cell_type": "code",
   "execution_count": 6,
   "metadata": {},
   "outputs": [
    {
     "name": "stdout",
     "output_type": "stream",
     "text": [
      "     Province_State      Admin2       UID iso2 iso3  code3     FIPS  \\\n",
      "0           Alabama     Autauga  84001001   US  USA    840   1001.0   \n",
      "1           Alabama     Baldwin  84001003   US  USA    840   1003.0   \n",
      "2           Alabama     Barbour  84001005   US  USA    840   1005.0   \n",
      "3           Alabama        Bibb  84001007   US  USA    840   1007.0   \n",
      "4           Alabama      Blount  84001009   US  USA    840   1009.0   \n",
      "...             ...         ...       ...  ...  ...    ...      ...   \n",
      "3335        Wyoming       Teton  84056039   US  USA    840  56039.0   \n",
      "3336        Wyoming       Uinta  84056041   US  USA    840  56041.0   \n",
      "3337        Wyoming  Unassigned  84090056   US  USA    840  90056.0   \n",
      "3338        Wyoming    Washakie  84056043   US  USA    840  56043.0   \n",
      "3339        Wyoming      Weston  84056045   US  USA    840  56045.0   \n",
      "\n",
      "     Country_Region        Lat       Long_  ... 1/17/21  1/18/21  1/19/21  \\\n",
      "0                US  32.539527  -86.644082  ...      55       55       55   \n",
      "1                US  30.727750  -87.722071  ...     182      182      183   \n",
      "2                US  31.868263  -85.387129  ...      36       36       36   \n",
      "3                US  32.996421  -87.125115  ...      47       47       47   \n",
      "4                US  33.982109  -86.567906  ...      83       83       83   \n",
      "...             ...        ...         ...  ...     ...      ...      ...   \n",
      "3335             US  43.935225 -110.589080  ...       4        4        5   \n",
      "3336             US  41.287818 -110.547578  ...       9        9       10   \n",
      "3337             US   0.000000    0.000000  ...       0        0        0   \n",
      "3338             US  43.904516 -107.680187  ...      23       23       24   \n",
      "3339             US  43.839612 -104.567488  ...       4        4        4   \n",
      "\n",
      "      1/20/21  1/21/21  1/22/21  1/23/21  1/24/21  1/25/21  1/26/21  \n",
      "0          55       61       61       62       62       62       65  \n",
      "1         184      188      188      189      189      189      216  \n",
      "2          36       36       37       38       38       38       40  \n",
      "3          47       48       48       48       48       48       51  \n",
      "4          83       86       86       86       86       86       94  \n",
      "...       ...      ...      ...      ...      ...      ...      ...  \n",
      "3335        5        5        5        5        5        5        6  \n",
      "3336       10       10       12       12       12       12       12  \n",
      "3337        0        0        0        0        0        0        0  \n",
      "3338       24       24       25       25       25       25       25  \n",
      "3339        4        4        4        4        4        4        4  \n",
      "\n",
      "[3340 rows x 383 columns]\n",
      "     Province_State      Admin2       UID iso2 iso3  code3     FIPS  \\\n",
      "0           Alabama     Autauga  84001001   US  USA    840   1001.0   \n",
      "1           Alabama     Baldwin  84001003   US  USA    840   1003.0   \n",
      "2           Alabama     Barbour  84001005   US  USA    840   1005.0   \n",
      "3           Alabama        Bibb  84001007   US  USA    840   1007.0   \n",
      "4           Alabama      Blount  84001009   US  USA    840   1009.0   \n",
      "...             ...         ...       ...  ...  ...    ...      ...   \n",
      "3335        Wyoming       Teton  84056039   US  USA    840  56039.0   \n",
      "3336        Wyoming       Uinta  84056041   US  USA    840  56041.0   \n",
      "3337        Wyoming  Unassigned  84090056   US  USA    840  90056.0   \n",
      "3338        Wyoming    Washakie  84056043   US  USA    840  56043.0   \n",
      "3339        Wyoming      Weston  84056045   US  USA    840  56045.0   \n",
      "\n",
      "     Country_Region        Lat       Long_  ... 1/17/21  1/18/21  1/19/21  \\\n",
      "0                US  32.539527  -86.644082  ...    5184     5198     5227   \n",
      "1                US  30.727750  -87.722071  ...   16251    16346    16513   \n",
      "2                US  31.868263  -85.387129  ...    1729     1730     1738   \n",
      "3                US  32.996421  -87.125115  ...    2151     2162     2170   \n",
      "4                US  33.982109  -86.567906  ...    5304     5308     5320   \n",
      "...             ...        ...         ...  ...     ...      ...      ...   \n",
      "3335             US  43.935225 -110.589080  ...    2685     2753     2769   \n",
      "3336             US  41.287818 -110.547578  ...    1817     1833     1843   \n",
      "3337             US   0.000000    0.000000  ...       0        0        0   \n",
      "3338             US  43.904516 -107.680187  ...     843      844      846   \n",
      "3339             US  43.839612 -104.567488  ...     602      602      606   \n",
      "\n",
      "      1/20/21  1/21/21  1/22/21  1/23/21  1/24/21  1/25/21  1/26/21  \n",
      "0        5257     5270     5327     5358     5376     5407     5440  \n",
      "1       16653    16798    16981    17128    17256    17333    17496  \n",
      "2        1760     1778     1793     1805     1827     1834     1882  \n",
      "3        2188     2198     2212     2223     2223     2229     2247  \n",
      "4        5376     5411     5439     5462     5473     5485     5517  \n",
      "...       ...      ...      ...      ...      ...      ...      ...  \n",
      "3335     2788     2847     2870     2870     2931     2981     2993  \n",
      "3336     1852     1874     1887     1887     1900     1913     1925  \n",
      "3337        0        0        0        0        0        0        0  \n",
      "3338      846      848      853      853      858      861      863  \n",
      "3339      606      609      609      609      610      610      609  \n",
      "\n",
      "[3340 rows x 382 columns]\n"
     ]
    }
   ],
   "source": [
    "df_deaths_1 = pd.read_csv('RAW_us_deaths.csv')\n",
    "print(df_deaths_1)\n",
    "df_confirmed_cases_1 = pd.read_csv('RAW_us_confirmed_cases.csv')\n",
    "print(df_confirmed_cases_1)"
   ]
  },
  {
   "cell_type": "markdown",
   "metadata": {},
   "source": [
    "Question 2 : Rename “Province_State” and “Admin2” to state and city respectively. Make these the index."
   ]
  },
  {
   "cell_type": "code",
   "execution_count": 7,
   "metadata": {},
   "outputs": [
    {
     "name": "stdout",
     "output_type": "stream",
     "text": [
      "                         UID iso2 iso3  code3     FIPS Country_Region  \\\n",
      "state   city                                                            \n",
      "Alabama Autauga     84001001   US  USA    840   1001.0             US   \n",
      "        Baldwin     84001003   US  USA    840   1003.0             US   \n",
      "        Barbour     84001005   US  USA    840   1005.0             US   \n",
      "        Bibb        84001007   US  USA    840   1007.0             US   \n",
      "        Blount      84001009   US  USA    840   1009.0             US   \n",
      "...                      ...  ...  ...    ...      ...            ...   \n",
      "Wyoming Teton       84056039   US  USA    840  56039.0             US   \n",
      "        Uinta       84056041   US  USA    840  56041.0             US   \n",
      "        Unassigned  84090056   US  USA    840  90056.0             US   \n",
      "        Washakie    84056043   US  USA    840  56043.0             US   \n",
      "        Weston      84056045   US  USA    840  56045.0             US   \n",
      "\n",
      "                          Lat       Long_             Combined_Key  \\\n",
      "state   city                                                         \n",
      "Alabama Autauga     32.539527  -86.644082     Autauga, Alabama, US   \n",
      "        Baldwin     30.727750  -87.722071     Baldwin, Alabama, US   \n",
      "        Barbour     31.868263  -85.387129     Barbour, Alabama, US   \n",
      "        Bibb        32.996421  -87.125115        Bibb, Alabama, US   \n",
      "        Blount      33.982109  -86.567906      Blount, Alabama, US   \n",
      "...                       ...         ...                      ...   \n",
      "Wyoming Teton       43.935225 -110.589080       Teton, Wyoming, US   \n",
      "        Uinta       41.287818 -110.547578       Uinta, Wyoming, US   \n",
      "        Unassigned   0.000000    0.000000  Unassigned, Wyoming, US   \n",
      "        Washakie    43.904516 -107.680187    Washakie, Wyoming, US   \n",
      "        Weston      43.839612 -104.567488      Weston, Wyoming, US   \n",
      "\n",
      "                    Population  ...  1/17/21  1/18/21  1/19/21  1/20/21  \\\n",
      "state   city                    ...                                       \n",
      "Alabama Autauga          55869  ...       55       55       55       55   \n",
      "        Baldwin         223234  ...      182      182      183      184   \n",
      "        Barbour          24686  ...       36       36       36       36   \n",
      "        Bibb             22394  ...       47       47       47       47   \n",
      "        Blount           57826  ...       83       83       83       83   \n",
      "...                        ...  ...      ...      ...      ...      ...   \n",
      "Wyoming Teton            23464  ...        4        4        5        5   \n",
      "        Uinta            20226  ...        9        9       10       10   \n",
      "        Unassigned           0  ...        0        0        0        0   \n",
      "        Washakie          7805  ...       23       23       24       24   \n",
      "        Weston            6927  ...        4        4        4        4   \n",
      "\n",
      "                    1/21/21  1/22/21  1/23/21  1/24/21  1/25/21  1/26/21  \n",
      "state   city                                                              \n",
      "Alabama Autauga          61       61       62       62       62       65  \n",
      "        Baldwin         188      188      189      189      189      216  \n",
      "        Barbour          36       37       38       38       38       40  \n",
      "        Bibb             48       48       48       48       48       51  \n",
      "        Blount           86       86       86       86       86       94  \n",
      "...                     ...      ...      ...      ...      ...      ...  \n",
      "Wyoming Teton             5        5        5        5        5        6  \n",
      "        Uinta            10       12       12       12       12       12  \n",
      "        Unassigned        0        0        0        0        0        0  \n",
      "        Washakie         24       25       25       25       25       25  \n",
      "        Weston            4        4        4        4        4        4  \n",
      "\n",
      "[3340 rows x 381 columns]\n",
      "                         UID iso2 iso3  code3     FIPS Country_Region  \\\n",
      "state   city                                                            \n",
      "Alabama Autauga     84001001   US  USA    840   1001.0             US   \n",
      "        Baldwin     84001003   US  USA    840   1003.0             US   \n",
      "        Barbour     84001005   US  USA    840   1005.0             US   \n",
      "        Bibb        84001007   US  USA    840   1007.0             US   \n",
      "        Blount      84001009   US  USA    840   1009.0             US   \n",
      "...                      ...  ...  ...    ...      ...            ...   \n",
      "Wyoming Teton       84056039   US  USA    840  56039.0             US   \n",
      "        Uinta       84056041   US  USA    840  56041.0             US   \n",
      "        Unassigned  84090056   US  USA    840  90056.0             US   \n",
      "        Washakie    84056043   US  USA    840  56043.0             US   \n",
      "        Weston      84056045   US  USA    840  56045.0             US   \n",
      "\n",
      "                          Lat       Long_             Combined_Key  1/22/20  \\\n",
      "state   city                                                                  \n",
      "Alabama Autauga     32.539527  -86.644082     Autauga, Alabama, US        0   \n",
      "        Baldwin     30.727750  -87.722071     Baldwin, Alabama, US        0   \n",
      "        Barbour     31.868263  -85.387129     Barbour, Alabama, US        0   \n",
      "        Bibb        32.996421  -87.125115        Bibb, Alabama, US        0   \n",
      "        Blount      33.982109  -86.567906      Blount, Alabama, US        0   \n",
      "...                       ...         ...                      ...      ...   \n",
      "Wyoming Teton       43.935225 -110.589080       Teton, Wyoming, US        0   \n",
      "        Uinta       41.287818 -110.547578       Uinta, Wyoming, US        0   \n",
      "        Unassigned   0.000000    0.000000  Unassigned, Wyoming, US        0   \n",
      "        Washakie    43.904516 -107.680187    Washakie, Wyoming, US        0   \n",
      "        Weston      43.839612 -104.567488      Weston, Wyoming, US        0   \n",
      "\n",
      "                    ...  1/17/21  1/18/21  1/19/21  1/20/21  1/21/21  1/22/21  \\\n",
      "state   city        ...                                                         \n",
      "Alabama Autauga     ...     5184     5198     5227     5257     5270     5327   \n",
      "        Baldwin     ...    16251    16346    16513    16653    16798    16981   \n",
      "        Barbour     ...     1729     1730     1738     1760     1778     1793   \n",
      "        Bibb        ...     2151     2162     2170     2188     2198     2212   \n",
      "        Blount      ...     5304     5308     5320     5376     5411     5439   \n",
      "...                 ...      ...      ...      ...      ...      ...      ...   \n",
      "Wyoming Teton       ...     2685     2753     2769     2788     2847     2870   \n",
      "        Uinta       ...     1817     1833     1843     1852     1874     1887   \n",
      "        Unassigned  ...        0        0        0        0        0        0   \n",
      "        Washakie    ...      843      844      846      846      848      853   \n",
      "        Weston      ...      602      602      606      606      609      609   \n",
      "\n",
      "                    1/23/21  1/24/21  1/25/21  1/26/21  \n",
      "state   city                                            \n",
      "Alabama Autauga        5358     5376     5407     5440  \n",
      "        Baldwin       17128    17256    17333    17496  \n",
      "        Barbour        1805     1827     1834     1882  \n",
      "        Bibb           2223     2223     2229     2247  \n",
      "        Blount         5462     5473     5485     5517  \n",
      "...                     ...      ...      ...      ...  \n",
      "Wyoming Teton          2870     2931     2981     2993  \n",
      "        Uinta          1887     1900     1913     1925  \n",
      "        Unassigned        0        0        0        0  \n",
      "        Washakie        853      858      861      863  \n",
      "        Weston          609      610      610      609  \n",
      "\n",
      "[3340 rows x 380 columns]\n"
     ]
    }
   ],
   "source": [
    "df_deaths = df_deaths_1.rename(columns={\"Province_State\": \"state\", \"Admin2\": \"city\"}).set_index(['state','city'])\n",
    "print(df_deaths)\n",
    "df_confirmed_cases = df_confirmed_cases_1.rename(columns={\"Province_State\": \"state\", \"Admin2\": \"city\"}).set_index(['state','city'])\n",
    "print(df_confirmed_cases)"
   ]
  },
  {
   "cell_type": "markdown",
   "metadata": {},
   "source": [
    "Question 3 : Create a new pair of dataframes where you drop all of the columns that are not a date in the time series."
   ]
  },
  {
   "cell_type": "code",
   "execution_count": 8,
   "metadata": {},
   "outputs": [
    {
     "name": "stdout",
     "output_type": "stream",
     "text": [
      "                    1/22/20  1/23/20  1/24/20  1/25/20  1/26/20  1/27/20  \\\n",
      "state   city                                                               \n",
      "Alabama Autauga           0        0        0        0        0        0   \n",
      "        Baldwin           0        0        0        0        0        0   \n",
      "        Barbour           0        0        0        0        0        0   \n",
      "        Bibb              0        0        0        0        0        0   \n",
      "        Blount            0        0        0        0        0        0   \n",
      "...                     ...      ...      ...      ...      ...      ...   \n",
      "Wyoming Teton             0        0        0        0        0        0   \n",
      "        Uinta             0        0        0        0        0        0   \n",
      "        Unassigned        0        0        0        0        0        0   \n",
      "        Washakie          0        0        0        0        0        0   \n",
      "        Weston            0        0        0        0        0        0   \n",
      "\n",
      "                    1/28/20  1/29/20  1/30/20  1/31/20  ...  1/17/21  1/18/21  \\\n",
      "state   city                                            ...                     \n",
      "Alabama Autauga           0        0        0        0  ...       55       55   \n",
      "        Baldwin           0        0        0        0  ...      182      182   \n",
      "        Barbour           0        0        0        0  ...       36       36   \n",
      "        Bibb              0        0        0        0  ...       47       47   \n",
      "        Blount            0        0        0        0  ...       83       83   \n",
      "...                     ...      ...      ...      ...  ...      ...      ...   \n",
      "Wyoming Teton             0        0        0        0  ...        4        4   \n",
      "        Uinta             0        0        0        0  ...        9        9   \n",
      "        Unassigned        0        0        0        0  ...        0        0   \n",
      "        Washakie          0        0        0        0  ...       23       23   \n",
      "        Weston            0        0        0        0  ...        4        4   \n",
      "\n",
      "                    1/19/21  1/20/21  1/21/21  1/22/21  1/23/21  1/24/21  \\\n",
      "state   city                                                               \n",
      "Alabama Autauga          55       55       61       61       62       62   \n",
      "        Baldwin         183      184      188      188      189      189   \n",
      "        Barbour          36       36       36       37       38       38   \n",
      "        Bibb             47       47       48       48       48       48   \n",
      "        Blount           83       83       86       86       86       86   \n",
      "...                     ...      ...      ...      ...      ...      ...   \n",
      "Wyoming Teton             5        5        5        5        5        5   \n",
      "        Uinta            10       10       10       12       12       12   \n",
      "        Unassigned        0        0        0        0        0        0   \n",
      "        Washakie         24       24       24       25       25       25   \n",
      "        Weston            4        4        4        4        4        4   \n",
      "\n",
      "                    1/25/21  1/26/21  \n",
      "state   city                          \n",
      "Alabama Autauga          62       65  \n",
      "        Baldwin         189      216  \n",
      "        Barbour          38       40  \n",
      "        Bibb             48       51  \n",
      "        Blount           86       94  \n",
      "...                     ...      ...  \n",
      "Wyoming Teton             5        6  \n",
      "        Uinta            12       12  \n",
      "        Unassigned        0        0  \n",
      "        Washakie         25       25  \n",
      "        Weston            4        4  \n",
      "\n",
      "[3340 rows x 371 columns]\n",
      "                    1/22/20  1/23/20  1/24/20  1/25/20  1/26/20  1/27/20  \\\n",
      "state   city                                                               \n",
      "Alabama Autauga           0        0        0        0        0        0   \n",
      "        Baldwin           0        0        0        0        0        0   \n",
      "        Barbour           0        0        0        0        0        0   \n",
      "        Bibb              0        0        0        0        0        0   \n",
      "        Blount            0        0        0        0        0        0   \n",
      "...                     ...      ...      ...      ...      ...      ...   \n",
      "Wyoming Teton             0        0        0        0        0        0   \n",
      "        Uinta             0        0        0        0        0        0   \n",
      "        Unassigned        0        0        0        0        0        0   \n",
      "        Washakie          0        0        0        0        0        0   \n",
      "        Weston            0        0        0        0        0        0   \n",
      "\n",
      "                    1/28/20  1/29/20  1/30/20  1/31/20  ...  1/17/21  1/18/21  \\\n",
      "state   city                                            ...                     \n",
      "Alabama Autauga           0        0        0        0  ...     5184     5198   \n",
      "        Baldwin           0        0        0        0  ...    16251    16346   \n",
      "        Barbour           0        0        0        0  ...     1729     1730   \n",
      "        Bibb              0        0        0        0  ...     2151     2162   \n",
      "        Blount            0        0        0        0  ...     5304     5308   \n",
      "...                     ...      ...      ...      ...  ...      ...      ...   \n",
      "Wyoming Teton             0        0        0        0  ...     2685     2753   \n",
      "        Uinta             0        0        0        0  ...     1817     1833   \n",
      "        Unassigned        0        0        0        0  ...        0        0   \n",
      "        Washakie          0        0        0        0  ...      843      844   \n",
      "        Weston            0        0        0        0  ...      602      602   \n",
      "\n",
      "                    1/19/21  1/20/21  1/21/21  1/22/21  1/23/21  1/24/21  \\\n",
      "state   city                                                               \n",
      "Alabama Autauga        5227     5257     5270     5327     5358     5376   \n",
      "        Baldwin       16513    16653    16798    16981    17128    17256   \n",
      "        Barbour        1738     1760     1778     1793     1805     1827   \n",
      "        Bibb           2170     2188     2198     2212     2223     2223   \n",
      "        Blount         5320     5376     5411     5439     5462     5473   \n",
      "...                     ...      ...      ...      ...      ...      ...   \n",
      "Wyoming Teton          2769     2788     2847     2870     2870     2931   \n",
      "        Uinta          1843     1852     1874     1887     1887     1900   \n",
      "        Unassigned        0        0        0        0        0        0   \n",
      "        Washakie        846      846      848      853      853      858   \n",
      "        Weston          606      606      609      609      609      610   \n",
      "\n",
      "                    1/25/21  1/26/21  \n",
      "state   city                          \n",
      "Alabama Autauga        5407     5440  \n",
      "        Baldwin       17333    17496  \n",
      "        Barbour        1834     1882  \n",
      "        Bibb           2229     2247  \n",
      "        Blount         5485     5517  \n",
      "...                     ...      ...  \n",
      "Wyoming Teton          2981     2993  \n",
      "        Uinta          1913     1925  \n",
      "        Unassigned        0        0  \n",
      "        Washakie        861      863  \n",
      "        Weston          610      609  \n",
      "\n",
      "[3340 rows x 371 columns]\n"
     ]
    }
   ],
   "source": [
    "df_deaths_dropped = df_deaths.drop(['UID','iso2','iso3','FIPS','Country_Region','Lat','Long_','Combined_Key','code3','Population'],axis=1)\n",
    "print(df_deaths_dropped)\n",
    "df_confirmed_cases_dropped = df_confirmed_cases.drop(['UID','iso2','iso3','FIPS','Country_Region','Lat','Long_','Combined_Key','code3'],axis=1)\n",
    "print(df_confirmed_cases_dropped)"
   ]
  },
  {
   "cell_type": "markdown",
   "metadata": {},
   "source": [
    "Question 4 : Melt these dataframes into long format (the columns with be state, city, date, and value)."
   ]
  },
  {
   "cell_type": "code",
   "execution_count": 9,
   "metadata": {},
   "outputs": [
    {
     "name": "stdout",
     "output_type": "stream",
     "text": [
      "           state        city     date  value\n",
      "0        Alabama     Autauga  1/22/20      0\n",
      "1        Alabama     Baldwin  1/22/20      0\n",
      "2        Alabama     Barbour  1/22/20      0\n",
      "3        Alabama        Bibb  1/22/20      0\n",
      "4        Alabama      Blount  1/22/20      0\n",
      "...          ...         ...      ...    ...\n",
      "1239135  Wyoming       Teton  1/26/21      6\n",
      "1239136  Wyoming       Uinta  1/26/21     12\n",
      "1239137  Wyoming  Unassigned  1/26/21      0\n",
      "1239138  Wyoming    Washakie  1/26/21     25\n",
      "1239139  Wyoming      Weston  1/26/21      4\n",
      "\n",
      "[1239140 rows x 4 columns]\n",
      "           state        city     date  value\n",
      "0        Alabama     Autauga  1/22/20      0\n",
      "1        Alabama     Baldwin  1/22/20      0\n",
      "2        Alabama     Barbour  1/22/20      0\n",
      "3        Alabama        Bibb  1/22/20      0\n",
      "4        Alabama      Blount  1/22/20      0\n",
      "...          ...         ...      ...    ...\n",
      "1239135  Wyoming       Teton  1/26/21   2993\n",
      "1239136  Wyoming       Uinta  1/26/21   1925\n",
      "1239137  Wyoming  Unassigned  1/26/21      0\n",
      "1239138  Wyoming    Washakie  1/26/21    863\n",
      "1239139  Wyoming      Weston  1/26/21    609\n",
      "\n",
      "[1239140 rows x 4 columns]\n"
     ]
    }
   ],
   "source": [
    "df_deaths_long = df_deaths_dropped.reset_index().melt(id_vars = ['state','city']).rename(columns={\"variable\": \"date\"})\n",
    "print(df_deaths_long)\n",
    "df_confirmed_cases_long = df_confirmed_cases_dropped.reset_index().melt(id_vars = ['state','city']).rename(columns={\"variable\": \"date\"})\n",
    "print(df_confirmed_cases_long)"
   ]
  },
  {
   "cell_type": "markdown",
   "metadata": {},
   "source": [
    "Question 5 : Add another column called “type” to each of the long dataframes. Set it equal to “deaths” for the death dataframe, and “cases” for the case dataframe."
   ]
  },
  {
   "cell_type": "code",
   "execution_count": 10,
   "metadata": {},
   "outputs": [
    {
     "name": "stdout",
     "output_type": "stream",
     "text": [
      "           state        city     date  value    type\n",
      "0        Alabama     Autauga  1/22/20      0  deaths\n",
      "1        Alabama     Baldwin  1/22/20      0  deaths\n",
      "2        Alabama     Barbour  1/22/20      0  deaths\n",
      "3        Alabama        Bibb  1/22/20      0  deaths\n",
      "4        Alabama      Blount  1/22/20      0  deaths\n",
      "...          ...         ...      ...    ...     ...\n",
      "1239135  Wyoming       Teton  1/26/21      6  deaths\n",
      "1239136  Wyoming       Uinta  1/26/21     12  deaths\n",
      "1239137  Wyoming  Unassigned  1/26/21      0  deaths\n",
      "1239138  Wyoming    Washakie  1/26/21     25  deaths\n",
      "1239139  Wyoming      Weston  1/26/21      4  deaths\n",
      "\n",
      "[1239140 rows x 5 columns]\n",
      "           state        city     date  value   type\n",
      "0        Alabama     Autauga  1/22/20      0  cases\n",
      "1        Alabama     Baldwin  1/22/20      0  cases\n",
      "2        Alabama     Barbour  1/22/20      0  cases\n",
      "3        Alabama        Bibb  1/22/20      0  cases\n",
      "4        Alabama      Blount  1/22/20      0  cases\n",
      "...          ...         ...      ...    ...    ...\n",
      "1239135  Wyoming       Teton  1/26/21   2993  cases\n",
      "1239136  Wyoming       Uinta  1/26/21   1925  cases\n",
      "1239137  Wyoming  Unassigned  1/26/21      0  cases\n",
      "1239138  Wyoming    Washakie  1/26/21    863  cases\n",
      "1239139  Wyoming      Weston  1/26/21    609  cases\n",
      "\n",
      "[1239140 rows x 5 columns]\n"
     ]
    }
   ],
   "source": [
    "df_deaths_long['type'] = 'deaths'\n",
    "df_confirmed_cases_long['type'] = 'cases'\n",
    "\n",
    "print(df_deaths_long)\n",
    "print(df_confirmed_cases_long)"
   ]
  },
  {
   "cell_type": "markdown",
   "metadata": {},
   "source": [
    "Question 6 : Combine the two long dataframes into a single long dataframe. Use pd.to_datetime to convert the date column from string to datetime objects."
   ]
  },
  {
   "cell_type": "code",
   "execution_count": 11,
   "metadata": {},
   "outputs": [
    {
     "name": "stdout",
     "output_type": "stream",
     "text": [
      "           state        city       date  value    type\n",
      "0        Alabama     Autauga 2020-01-22      0  deaths\n",
      "1        Alabama     Baldwin 2020-01-22      0  deaths\n",
      "2        Alabama     Barbour 2020-01-22      0  deaths\n",
      "3        Alabama        Bibb 2020-01-22      0  deaths\n",
      "4        Alabama      Blount 2020-01-22      0  deaths\n",
      "...          ...         ...        ...    ...     ...\n",
      "1239135  Wyoming       Teton 2021-01-26      6  deaths\n",
      "1239136  Wyoming       Uinta 2021-01-26     12  deaths\n",
      "1239137  Wyoming  Unassigned 2021-01-26      0  deaths\n",
      "1239138  Wyoming    Washakie 2021-01-26     25  deaths\n",
      "1239139  Wyoming      Weston 2021-01-26      4  deaths\n",
      "\n",
      "[1239140 rows x 5 columns]\n",
      "           state        city       date  value   type\n",
      "0        Alabama     Autauga 2020-01-22      0  cases\n",
      "1        Alabama     Baldwin 2020-01-22      0  cases\n",
      "2        Alabama     Barbour 2020-01-22      0  cases\n",
      "3        Alabama        Bibb 2020-01-22      0  cases\n",
      "4        Alabama      Blount 2020-01-22      0  cases\n",
      "...          ...         ...        ...    ...    ...\n",
      "1239135  Wyoming       Teton 2021-01-26   2993  cases\n",
      "1239136  Wyoming       Uinta 2021-01-26   1925  cases\n",
      "1239137  Wyoming  Unassigned 2021-01-26      0  cases\n",
      "1239138  Wyoming    Washakie 2021-01-26    863  cases\n",
      "1239139  Wyoming      Weston 2021-01-26    609  cases\n",
      "\n",
      "[1239140 rows x 5 columns]\n"
     ]
    }
   ],
   "source": [
    "df_deaths_long['date'] = pd.to_datetime(df_deaths_long['date'])\n",
    "df_confirmed_cases_long['date'] = pd.to_datetime(df_confirmed_cases_long['date'])\n",
    "\n",
    "print(df_deaths_long)\n",
    "print(df_confirmed_cases_long)"
   ]
  },
  {
   "cell_type": "markdown",
   "metadata": {},
   "source": [
    "Question 7 : Use a groupby and a pivot to create a dataframe that calculates the cumulative deaths and cases for every state for every day. This means the index columns will be state and date, and the value columns will be cases and deaths."
   ]
  },
  {
   "cell_type": "code",
   "execution_count": 12,
   "metadata": {},
   "outputs": [
    {
     "name": "stdout",
     "output_type": "stream",
     "text": [
      "type                cases  deaths\n",
      "state   date                     \n",
      "Alabama 2020-01-22      0       0\n",
      "        2020-01-23      0       0\n",
      "        2020-01-24      0       0\n",
      "        2020-01-25      0       0\n",
      "        2020-01-26      0       0\n",
      "...                   ...     ...\n",
      "Wyoming 2021-01-22  50583     571\n",
      "        2021-01-23  50583     571\n",
      "        2021-01-24  50898     571\n",
      "        2021-01-25  51062     571\n",
      "        2021-01-26  51152     596\n",
      "\n",
      "[21518 rows x 2 columns]\n"
     ]
    }
   ],
   "source": [
    "df_merge_deaths_cases = pd.concat([df_deaths_long,df_confirmed_cases_long])\n",
    "df_merge_reset = df_merge_deaths_cases.groupby(['state', 'date', 'type']).sum().reset_index().pivot_table(index=['state', 'date'], columns='type', values='value')\n",
    "print(df_merge_reset)"
   ]
  },
  {
   "cell_type": "markdown",
   "metadata": {},
   "source": [
    "Question 8: Since the the data is given as cumulative deaths/cases, we can use the following code to create a dataframe that has deaths/cases that were recorded on a certain day using the following code (suppose the dataframe from part 7 is called piv): piv2 = piv - piv.groupby(’state’).shift(1).fillna(0.0)\n",
    "Explain, in words, what this is doing."
   ]
  },
  {
   "cell_type": "markdown",
   "metadata": {},
   "source": [
    "Ans - This is the code mentioned in the assignment. This basically shifts the entire data by 1 row. and subtracts it from the original data. This is essential for calculating the number of confirmed cases or deaths reported daily."
   ]
  },
  {
   "cell_type": "code",
   "execution_count": 13,
   "metadata": {},
   "outputs": [
    {
     "name": "stdout",
     "output_type": "stream",
     "text": [
      "type                cases  deaths\n",
      "state   date                     \n",
      "Alabama 2020-01-22    0.0     0.0\n",
      "        2020-01-23    0.0     0.0\n",
      "        2020-01-24    0.0     0.0\n",
      "        2020-01-25    0.0     0.0\n",
      "        2020-01-26    0.0     0.0\n",
      "...                   ...     ...\n",
      "Wyoming 2021-01-22  159.0    21.0\n",
      "        2021-01-23    0.0     0.0\n",
      "        2021-01-24  315.0     0.0\n",
      "        2021-01-25  164.0     0.0\n",
      "        2021-01-26   90.0    25.0\n",
      "\n",
      "[21518 rows x 2 columns]\n"
     ]
    }
   ],
   "source": [
    "df_merge_groupby_state_date_change = df_merge_reset - df_merge_reset.groupby('state').shift(1).fillna(0.0)\n",
    "print(df_merge_groupby_state_date_change)"
   ]
  },
  {
   "cell_type": "markdown",
   "metadata": {},
   "source": [
    "Question 9 : Using this dataframe created in part 8, find the dates on which each state recorded the most cases and deaths."
   ]
  },
  {
   "cell_type": "code",
   "execution_count": 14,
   "metadata": {},
   "outputs": [
    {
     "data": {
      "text/plain": [
       "array(['2020-04-07T00:00:00.000000000'], dtype='datetime64[ns]')"
      ]
     },
     "execution_count": 14,
     "metadata": {},
     "output_type": "execute_result"
    }
   ],
   "source": [
    "df_merge_groupby_state_date_change[df_merge_groupby_state_date_change['deaths']==max(df_merge_groupby_state_date_change['deaths'])].reset_index().date.values"
   ]
  },
  {
   "cell_type": "markdown",
   "metadata": {},
   "source": [
    "Question 10 : RAW_us_deaths.csv contains a field for the population of each state. Use this information, determine for every date, which state had the greatest number of deaths per capita."
   ]
  },
  {
   "cell_type": "code",
   "execution_count": 15,
   "metadata": {},
   "outputs": [
    {
     "data": {
      "text/html": [
       "<div>\n",
       "<style scoped>\n",
       "    .dataframe tbody tr th:only-of-type {\n",
       "        vertical-align: middle;\n",
       "    }\n",
       "\n",
       "    .dataframe tbody tr th {\n",
       "        vertical-align: top;\n",
       "    }\n",
       "\n",
       "    .dataframe thead th {\n",
       "        text-align: right;\n",
       "    }\n",
       "</style>\n",
       "<table border=\"1\" class=\"dataframe\">\n",
       "  <thead>\n",
       "    <tr style=\"text-align: right;\">\n",
       "      <th></th>\n",
       "      <th>state</th>\n",
       "      <th>date</th>\n",
       "      <th>cases</th>\n",
       "      <th>deaths</th>\n",
       "      <th>Population</th>\n",
       "      <th>death_per_capita</th>\n",
       "    </tr>\n",
       "  </thead>\n",
       "  <tbody>\n",
       "    <tr>\n",
       "      <th>7373</th>\n",
       "      <td>Iowa</td>\n",
       "      <td>2020-12-11</td>\n",
       "      <td>1059.0</td>\n",
       "      <td>469.0</td>\n",
       "      <td>3155070.0</td>\n",
       "      <td>0.000149</td>\n",
       "    </tr>\n",
       "  </tbody>\n",
       "</table>\n",
       "</div>"
      ],
      "text/plain": [
       "     state       date   cases  deaths  Population  death_per_capita\n",
       "7373  Iowa 2020-12-11  1059.0   469.0   3155070.0          0.000149"
      ]
     },
     "execution_count": 15,
     "metadata": {},
     "output_type": "execute_result"
    }
   ],
   "source": [
    "df_deaths_raw = pd.read_csv('RAW_us_deaths.csv')\n",
    "population_statewise = df_deaths_raw.groupby('Province_State').Population.sum()\n",
    "df_population_statewise = pd.DataFrame(population_statewise)\n",
    "df_population_statewise = df_population_statewise.replace(0,np.NaN)\n",
    "df_population_statewise = df_population_statewise.reset_index().rename(columns={\"Province_State\": \"state\"})\n",
    "df_merge_reset_change = df_merge_groupby_state_date_change.reset_index()\n",
    "df_merge_pop_deaths_cases = pd.merge(df_merge_reset_change,df_population_statewise, on='state')\n",
    "df_merge_pop_deaths_cases['death_per_capita'] = df_merge_pop_deaths_cases['deaths']/df_merge_pop_deaths_cases['Population']\n",
    "df_merge_pop_deaths_cases[df_merge_pop_deaths_cases['death_per_capita']==max(df_merge_pop_deaths_cases['death_per_capita'])]"
   ]
  },
  {
   "cell_type": "markdown",
   "metadata": {},
   "source": [
    "Question 11 : Make a lineplot for the time series of cumulative deaths for Texas, Louisiana,New York, Florida, New Jersey, Connecticut and California"
   ]
  },
  {
   "cell_type": "code",
   "execution_count": 17,
   "metadata": {},
   "outputs": [],
   "source": [
    "df_selective_state = df_merge_reset.query(\"state == ['Texas','Louisiana','New York','Florida','Connecticut','California']\").dropna().reset_index()\n"
   ]
  },
  {
   "cell_type": "code",
   "execution_count": 18,
   "metadata": {},
   "outputs": [
    {
     "data": {
      "text/plain": [
       "<matplotlib.axes._subplots.AxesSubplot at 0x7fe940003d00>"
      ]
     },
     "execution_count": 18,
     "metadata": {},
     "output_type": "execute_result"
    },
    {
     "data": {
      "image/png": "[encoded data removed]",
      "text/plain": [
       "<Figure size 432x288 with 1 Axes>"
      ]
     },
     "metadata": {},
     "output_type": "display_data"
    }
   ],
   "source": [
    "sns.lineplot(data=df_selective_state,x='date',y='deaths',hue='state')"
   ]
  },
  {
   "cell_type": "code",
   "execution_count": 19,
   "metadata": {
    "scrolled": true
   },
   "outputs": [
    {
     "data": {
      "text/plain": [
       "<matplotlib.axes._subplots.AxesSubplot at 0x7fe908d0cee0>"
      ]
     },
     "execution_count": 19,
     "metadata": {},
     "output_type": "execute_result"
    },
    {
     "data": {
      "image/png": "[encoded data removed]",
      "text/plain": [
       "<Figure size 432x288 with 1 Axes>"
      ]
     },
     "metadata": {},
     "output_type": "display_data"
    }
   ],
   "source": [
    "sns.lineplot(data=df_selective_state,x='date',y='cases',hue='state')"
   ]
  },
  {
   "cell_type": "markdown",
   "metadata": {},
   "source": [
    "Question 12 : Create a stacked bar chart with each of the state’s from Step 12 total cases and total deaths."
   ]
  },
  {
   "cell_type": "code",
   "execution_count": 20,
   "metadata": {},
   "outputs": [
    {
     "data": {
      "text/plain": [
       "<matplotlib.axes._subplots.AxesSubplot at 0x7fe90817e670>"
      ]
     },
     "execution_count": 20,
     "metadata": {},
     "output_type": "execute_result"
    },
    {
     "data": {
      "image/png": "[encoded data removed]",
      "text/plain": [
       "<Figure size 432x288 with 1 Axes>"
      ]
     },
     "metadata": {},
     "output_type": "display_data"
    }
   ],
   "source": [
    "df20 = df_selective_state.groupby('state').sum()\n",
    "df20.plot(kind='bar', stacked=True)"
   ]
  },
  {
   "cell_type": "markdown",
   "metadata": {},
   "source": [
    "Question 13 : Write a function that use matplotlib to create a pairplot (histograms on the diagonal, scatterplots on the off-diagonal) for a given dataframe. Use this to make a pairplot for daily deaths in the above states."
   ]
  },
  {
   "cell_type": "code",
   "execution_count": 21,
   "metadata": {},
   "outputs": [],
   "source": [
    "df_pair_plot = df_merge_reset_change.groupby(['state','date']).sum()"
   ]
  },
  {
   "cell_type": "markdown",
   "metadata": {},
   "source": [
    "Step 14 : Function to create a PairPlot"
   ]
  },
  {
   "cell_type": "code",
   "execution_count": 24,
   "metadata": {},
   "outputs": [
    {
     "data": {
      "image/png": "[encoded data removed]",
      "text/plain": [
       "<Figure size 432x288 with 4 Axes>"
      ]
     },
     "metadata": {},
     "output_type": "display_data"
    }
   ],
   "source": [
    "def pair_plot(df):\n",
    "    df_numeric = df.select_dtypes(['number'])\n",
    "    n = len(df_numeric.columns)\n",
    "    arr = np.array([p for p in range(1,n**2+1)]).reshape((n,n))\n",
    "    for i in range(n):\n",
    "        for j in range(n):\n",
    "            if i == j:\n",
    "                plt.subplot(n,n,arr[i][j])\n",
    "                plt.tight_layout()\n",
    "                plt.hist(df_numeric[df_numeric.columns[i]])\n",
    "                plt.ylabel(df_numeric.columns[i])\n",
    "            else :\n",
    "                plt.subplot(n,n,arr[i][j])\n",
    "                plt.tight_layout()\n",
    "                plt.scatter(df_numeric[df_numeric.columns[i-1]],df_numeric[df_numeric.columns[j-1]],marker='.')\n",
    "                plt.xlabel(df_numeric.columns[i-1])\n",
    "                plt.ylabel(df_numeric.columns[j-1])\n",
    "    return None \n",
    "\n",
    "pair_plot(df_pair_plot)\n",
    "        "
   ]
  },
  {
   "cell_type": "code",
   "execution_count": null,
   "metadata": {},
   "outputs": [],
   "source": []
  }
 ],
 "metadata": {
  "kernelspec": {
   "display_name": "Python 3",
   "language": "python",
   "name": "python3"
  },
  "language_info": {
   "codemirror_mode": {
    "name": "ipython",
    "version": 3
   },
   "file_extension": ".py",
   "mimetype": "text/x-python",
   "name": "python",
   "nbconvert_exporter": "python",
   "pygments_lexer": "ipython3",
   "version": "3.8.3"
  }
 },
 "nbformat": 4,
 "nbformat_minor": 4
}
