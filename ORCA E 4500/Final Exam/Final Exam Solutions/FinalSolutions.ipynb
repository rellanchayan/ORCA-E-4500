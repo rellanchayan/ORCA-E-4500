{
 "cells": [
  {
   "cell_type": "code",
   "execution_count": 1,
   "metadata": {},
   "outputs": [],
   "source": [
    "import numpy as np\n",
    "import pandas as pd\n",
    "\n",
    "from sklearn.compose import ColumnTransformer\n",
    "from sklearn.impute import SimpleImputer\n",
    "from sklearn.linear_model import LogisticRegression\n",
    "from sklearn.model_selection import train_test_split, GridSearchCV\n",
    "from sklearn.pipeline import Pipeline\n",
    "from sklearn.preprocessing import OneHotEncoder, StandardScaler"
   ]
  },
  {
   "cell_type": "code",
   "execution_count": 2,
   "metadata": {},
   "outputs": [],
   "source": [
    "### Question 25"
   ]
  },
  {
   "cell_type": "code",
   "execution_count": 3,
   "metadata": {},
   "outputs": [],
   "source": [
    "data = pd.read_csv('xy.csv', index_col=0)"
   ]
  },
  {
   "cell_type": "code",
   "execution_count": 4,
   "metadata": {},
   "outputs": [
    {
     "name": "stdout",
     "output_type": "stream",
     "text": [
      "reject H_0\n",
      "0.2776331674105821 0.7749608342315764\n"
     ]
    }
   ],
   "source": [
    "X = data[data['variable']=='X']['value']\n",
    "Y = data[data['variable']=='Y']['value']\n",
    "mu_0 = 1\n",
    "\n",
    "def bootstrap_ci(X, Y, m, alpha):\n",
    "    n1 = len(X)\n",
    "    n2 = len(Y)\n",
    "    X_resample = np.random.choice(X, size=(m,n1))\n",
    "    Y_resample = np.random.choice(Y, size=(m,n2))\n",
    "    mu_x = np.mean(X_resample, axis=1)\n",
    "    mu_y = np.mean(Y_resample, axis=1)\n",
    "    \n",
    "    ratio = mu_x/mu_y\n",
    "    \n",
    "    lower = np.quantile(ratio, alpha/2)\n",
    "    upper = np.quantile(ratio, 1 - alpha/2)\n",
    "    return lower, upper\n",
    "\n",
    "lower, upper = bootstrap_ci(X, Y, 1000, .05)\n",
    "\n",
    "lower, upper\n",
    "if (lower > mu_0) | (upper < mu_0):\n",
    "    print('reject H_0')\n",
    "else:\n",
    "    print('fail to reject')\n",
    "    \n",
    "print(lower, upper)"
   ]
  },
  {
   "cell_type": "code",
   "execution_count": 5,
   "metadata": {},
   "outputs": [],
   "source": [
    "### Question 26"
   ]
  },
  {
   "cell_type": "code",
   "execution_count": null,
   "metadata": {},
   "outputs": [],
   "source": []
  },
  {
   "cell_type": "code",
   "execution_count": 6,
   "metadata": {},
   "outputs": [],
   "source": [
    "df = pd.read_csv('machine_learning.csv', index_col=0)\n",
    "y = df['y'] == 'chinchilla'\n",
    "\n",
    "X = df.drop(columns=['y'])\n",
    "X_train, X_test, y_train, y_test = train_test_split(X, y)\n",
    "\n",
    "cat_cols = ['color', 'birth_country']\n",
    "cont_cols = ['weight', 'waist_measurement' ,'height']\n",
    "\n",
    "cat_pipe = Pipeline([('OneHot', OneHotEncoder(handle_unknown='ignore'))])\n",
    "cont_pipe = Pipeline([('Imputer', SimpleImputer(strategy='mean')),\n",
    "                      ('StandardScaler', StandardScaler())])\n",
    "\n",
    "cf = ColumnTransformer([('cat_pipe', cat_pipe, cat_cols),\n",
    "                        ('cont_pipe', cont_pipe, cont_cols)])\n",
    "\n",
    "pipe = Pipeline([('cf', cf),\n",
    "                 ('lr', LogisticRegression())])\n",
    "\n",
    "param_grid = {'lr__C': np.logspace(-1,2,50)}\n",
    "\n",
    "lr = GridSearchCV(pipe, param_grid=param_grid, scoring='neg_brier_score')"
   ]
  },
  {
   "cell_type": "code",
   "execution_count": 7,
   "metadata": {},
   "outputs": [
    {
     "data": {
      "text/plain": [
       "GridSearchCV(estimator=Pipeline(steps=[('cf',\n",
       "                                        ColumnTransformer(transformers=[('cat_pipe',\n",
       "                                                                         Pipeline(steps=[('OneHot',\n",
       "                                                                                          OneHotEncoder(handle_unknown='ignore'))]),\n",
       "                                                                         ['color',\n",
       "                                                                          'birth_country']),\n",
       "                                                                        ('cont_pipe',\n",
       "                                                                         Pipeline(steps=[('Imputer',\n",
       "                                                                                          SimpleImputer()),\n",
       "                                                                                         ('StandardScaler',\n",
       "                                                                                          StandardScaler())]),\n",
       "                                                                         ['weight',\n",
       "                                                                          'waist_measurement',\n",
       "                                                                          'height'])])),\n",
       "                                       ('lr', LogisticRegression())...\n",
       "         1.67683294,   1.93069773,   2.22299648,   2.55954792,\n",
       "         2.9470517 ,   3.39322177,   3.90693994,   4.49843267,\n",
       "         5.17947468,   5.96362332,   6.86648845,   7.90604321,\n",
       "         9.10298178,  10.48113134,  12.06792641,  13.89495494,\n",
       "        15.9985872 ,  18.42069969,  21.20950888,  24.42053095,\n",
       "        28.11768698,  32.37457543,  37.2759372 ,  42.9193426 ,\n",
       "        49.41713361,  56.89866029,  65.51285569,  75.43120063,\n",
       "        86.85113738, 100.        ])},\n",
       "             scoring='neg_brier_score')"
      ]
     },
     "execution_count": 7,
     "metadata": {},
     "output_type": "execute_result"
    }
   ],
   "source": [
    "lr.fit(X_train, y_train)"
   ]
  },
  {
   "cell_type": "code",
   "execution_count": 8,
   "metadata": {},
   "outputs": [
    {
     "data": {
      "text/plain": [
       "-0.06787852157488146"
      ]
     },
     "execution_count": 8,
     "metadata": {},
     "output_type": "execute_result"
    }
   ],
   "source": [
    "lr.best_score_"
   ]
  },
  {
   "cell_type": "code",
   "execution_count": 9,
   "metadata": {},
   "outputs": [
    {
     "data": {
      "text/plain": [
       "-0.07183996097756502"
      ]
     },
     "execution_count": 9,
     "metadata": {},
     "output_type": "execute_result"
    }
   ],
   "source": [
    "lr.score(X_test, y_test)"
   ]
  },
  {
   "cell_type": "code",
   "execution_count": 10,
   "metadata": {},
   "outputs": [
    {
     "data": {
      "text/plain": [
       "{'lr__C': 24.420530945486497}"
      ]
     },
     "execution_count": 10,
     "metadata": {},
     "output_type": "execute_result"
    }
   ],
   "source": [
    "lr.best_params_"
   ]
  },
  {
   "cell_type": "code",
   "execution_count": null,
   "metadata": {},
   "outputs": [],
   "source": []
  }
 ],
 "metadata": {
  "kernelspec": {
   "display_name": "Python 3",
   "language": "python",
   "name": "python3"
  },
  "language_info": {
   "codemirror_mode": {
    "name": "ipython",
    "version": 3
   },
   "file_extension": ".py",
   "mimetype": "text/x-python",
   "name": "python",
   "nbconvert_exporter": "python",
   "pygments_lexer": "ipython3",
   "version": "3.8.5"
  }
 },
 "nbformat": 4,
 "nbformat_minor": 4
}
