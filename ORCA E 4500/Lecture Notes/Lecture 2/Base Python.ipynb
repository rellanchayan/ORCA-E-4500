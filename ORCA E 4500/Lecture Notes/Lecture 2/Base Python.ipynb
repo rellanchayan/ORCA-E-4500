{
 "cells": [
  {
   "cell_type": "code",
   "execution_count": null,
   "metadata": {},
   "outputs": [],
   "source": [
    "#ORCA 2500/4500 lecture 1"
   ]
  },
  {
   "cell_type": "code",
   "execution_count": 8,
   "metadata": {},
   "outputs": [
    {
     "data": {
      "text/plain": [
       "3"
      ]
     },
     "execution_count": 8,
     "metadata": {},
     "output_type": "execute_result"
    }
   ],
   "source": [
    "# Expressions\n",
    "\n",
    "3 * 4\n",
    "3 + 4\n",
    "3 ** 4\n",
    "3 / 4\n",
    "3 % 4"
   ]
  },
  {
   "cell_type": "code",
   "execution_count": 9,
   "metadata": {},
   "outputs": [
    {
     "data": {
      "text/plain": [
       "7"
      ]
     },
     "execution_count": 9,
     "metadata": {},
     "output_type": "execute_result"
    }
   ],
   "source": [
    "# names\n",
    "\n",
    "x = 3\n",
    "y = 4\n",
    "z = x + y\n",
    "z"
   ]
  },
  {
   "cell_type": "code",
   "execution_count": 13,
   "metadata": {},
   "outputs": [
    {
     "data": {
      "text/plain": [
       "0"
      ]
     },
     "execution_count": 13,
     "metadata": {},
     "output_type": "execute_result"
    }
   ],
   "source": [
    "# functions\n",
    "\n",
    "def f_sum(x=0, y=0):\n",
    "    return x + y\n"
   ]
  },
  {
   "cell_type": "code",
   "execution_count": 18,
   "metadata": {},
   "outputs": [
    {
     "name": "stdout",
     "output_type": "stream",
     "text": [
      "x is bigger than 2\n"
     ]
    }
   ],
   "source": [
    "# conditional statements\n",
    "\n",
    "4 < 7\n",
    "4 > 2\n",
    "4 == 3\n",
    "x == y\n",
    "\n",
    "if (x > 2):\n",
    "    print('x is bigger than 2')\n",
    "elif (x==2):\n",
    "    print('x is equal to 2')\n",
    "else:\n",
    "    print('x is less than 2')\n",
    "\n"
   ]
  },
  {
   "cell_type": "code",
   "execution_count": 20,
   "metadata": {},
   "outputs": [
    {
     "name": "stdout",
     "output_type": "stream",
     "text": [
      "i is 0, j is 0\n",
      "i is 0, j is 1\n",
      "i is 0, j is 2\n",
      "i is 1, j is 0\n",
      "i is 1, j is 1\n",
      "i is 1, j is 2\n",
      "i is 2, j is 0\n",
      "i is 2, j is 1\n",
      "i is 2, j is 2\n"
     ]
    }
   ],
   "source": [
    "# loops\n",
    "\n",
    "#for i in [0, 1, 2]:\n",
    "#    print(i)\n",
    "    \n",
    "for i in [0, 1, 2]:\n",
    "    for j in [0, 1, 2]:\n",
    "        print('i is {}, j is {}'.format(i,j))"
   ]
  },
  {
   "cell_type": "code",
   "execution_count": 25,
   "metadata": {},
   "outputs": [
    {
     "data": {
      "text/plain": [
       "7"
      ]
     },
     "execution_count": 25,
     "metadata": {},
     "output_type": "execute_result"
    }
   ],
   "source": [
    "# tuples\n",
    "\n",
    "tup = (4, 5, (6, 7))\n",
    "tup\n",
    "\n",
    "a, b, (c, d) = tup\n",
    "d\n"
   ]
  },
  {
   "cell_type": "code",
   "execution_count": 31,
   "metadata": {},
   "outputs": [
    {
     "name": "stdout",
     "output_type": "stream",
     "text": [
      "[2, 'apple', 3, 7]\n",
      "[2, 3, 7]\n"
     ]
    },
    {
     "data": {
      "text/plain": [
       "[2, 3, 7, 2, 3, 7, 2, 3, 7]"
      ]
     },
     "execution_count": 31,
     "metadata": {},
     "output_type": "execute_result"
    }
   ],
   "source": [
    "# lists\n",
    "\n",
    "a_list = [2, 3, 7]\n",
    "b_list = ['foo', 'bar', 6]\n",
    "\n",
    "#a_list.append(5)\n",
    "#print(a_list)\n",
    "\n",
    "a_list.insert(1, 'apple')\n",
    "print(a_list)\n",
    "\n",
    "a_list.pop(1)\n",
    "print(a_list)\n",
    "\n",
    "a_list + b_list\n",
    "3 * a_list"
   ]
  },
  {
   "cell_type": "code",
   "execution_count": 35,
   "metadata": {},
   "outputs": [
    {
     "data": {
      "text/plain": [
       "[3, 7]"
      ]
     },
     "execution_count": 35,
     "metadata": {},
     "output_type": "execute_result"
    }
   ],
   "source": [
    "# slicing lists\n",
    "\n",
    "a_list[1:3]\n",
    "a_list[:3]\n",
    "a_list[2:]\n",
    "a_list[-2:]"
   ]
  },
  {
   "cell_type": "code",
   "execution_count": 39,
   "metadata": {},
   "outputs": [
    {
     "ename": "KeyError",
     "evalue": "7",
     "output_type": "error",
     "traceback": [
      "\u001b[0;31m---------------------------------------------------------------------------\u001b[0m",
      "\u001b[0;31mKeyError\u001b[0m                                  Traceback (most recent call last)",
      "\u001b[0;32m<ipython-input-39-3d7da818b2a1>\u001b[0m in \u001b[0;36m<module>\u001b[0;34m\u001b[0m\n\u001b[1;32m      2\u001b[0m \u001b[0;34m\u001b[0m\u001b[0m\n\u001b[1;32m      3\u001b[0m \u001b[0ma_dict\u001b[0m \u001b[0;34m=\u001b[0m \u001b[0;34m{\u001b[0m\u001b[0;34m'a'\u001b[0m\u001b[0;34m:\u001b[0m\u001b[0;36m3\u001b[0m\u001b[0;34m,\u001b[0m \u001b[0;36m3\u001b[0m\u001b[0;34m:\u001b[0m \u001b[0;34m'4'\u001b[0m\u001b[0;34m,\u001b[0m \u001b[0;34m'apple'\u001b[0m\u001b[0;34m:\u001b[0m\u001b[0;34m'orange'\u001b[0m\u001b[0;34m}\u001b[0m\u001b[0;34m\u001b[0m\u001b[0;34m\u001b[0m\u001b[0m\n\u001b[0;32m----> 4\u001b[0;31m \u001b[0ma_dict\u001b[0m\u001b[0;34m[\u001b[0m\u001b[0;36m7\u001b[0m\u001b[0;34m]\u001b[0m\u001b[0;34m\u001b[0m\u001b[0;34m\u001b[0m\u001b[0m\n\u001b[0m",
      "\u001b[0;31mKeyError\u001b[0m: 7"
     ]
    }
   ],
   "source": [
    "# dictionaries\n",
    "\n",
    "a_dict = {'a':3, 3: '4', 'apple':'orange'}\n"
   ]
  },
  {
   "cell_type": "code",
   "execution_count": 40,
   "metadata": {},
   "outputs": [
    {
     "data": {
      "text/plain": [
       "[0, 1, 4, 9, 16]"
      ]
     },
     "execution_count": 40,
     "metadata": {},
     "output_type": "execute_result"
    }
   ],
   "source": [
    "# list/tuples/dict comprehensions\n",
    "\n",
    "x_squared = [x*x for x in range(0, 5)]\n",
    "x_squared "
   ]
  },
  {
   "cell_type": "code",
   "execution_count": 42,
   "metadata": {},
   "outputs": [
    {
     "data": {
      "text/plain": [
       "0"
      ]
     },
     "execution_count": 42,
     "metadata": {},
     "output_type": "execute_result"
    }
   ],
   "source": [
    "def product_list(x):\n",
    "    prod = 1\n",
    "    for i in x:\n",
    "        prod = prod * i\n",
    "    return prod\n",
    "\n",
    "product_list([1,0])"
   ]
  },
  {
   "cell_type": "code",
   "execution_count": 50,
   "metadata": {},
   "outputs": [
    {
     "data": {
      "text/plain": [
       "8"
      ]
     },
     "execution_count": 50,
     "metadata": {},
     "output_type": "execute_result"
    }
   ],
   "source": [
    "def fib(n):\n",
    "    f = [1, 1]\n",
    "    if n == 1:\n",
    "        return 1\n",
    "    elif n== 2:\n",
    "        return 1\n",
    "    else:\n",
    "        for i in range(2, n):\n",
    "            x = f[i-1] + f[i-2]\n",
    "            f.append(x)\n",
    "        return f[-1]\n",
    "\n",
    "fib(6)"
   ]
  },
  {
   "cell_type": "code",
   "execution_count": 51,
   "metadata": {},
   "outputs": [
    {
     "data": {
      "text/plain": [
       "[3, 2, 1]"
      ]
     },
     "execution_count": 51,
     "metadata": {},
     "output_type": "execute_result"
    }
   ],
   "source": [
    "def reverse(x):\n",
    "    y = []\n",
    "    for i in x:\n",
    "        y.insert(0, i)\n",
    "    return y\n",
    "\n",
    "reverse([1,2,3])"
   ]
  },
  {
   "cell_type": "code",
   "execution_count": null,
   "metadata": {},
   "outputs": [],
   "source": []
  }
 ],
 "metadata": {
  "kernelspec": {
   "display_name": "Python 3",
   "language": "python",
   "name": "python3"
  },
  "language_info": {
   "codemirror_mode": {
    "name": "ipython",
    "version": 3
   },
   "file_extension": ".py",
   "mimetype": "text/x-python",
   "name": "python",
   "nbconvert_exporter": "python",
   "pygments_lexer": "ipython3",
   "version": "3.8.5"
  }
 },
 "nbformat": 4,
 "nbformat_minor": 4
}
