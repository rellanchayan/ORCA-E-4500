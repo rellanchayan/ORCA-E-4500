{
 "cells": [
  {
   "cell_type": "code",
   "execution_count": 1,
   "metadata": {},
   "outputs": [],
   "source": [
    "import pandas as pd"
   ]
  },
  {
   "cell_type": "code",
   "execution_count": 8,
   "metadata": {},
   "outputs": [],
   "source": [
    "batting_path = 'Batting.csv'\n",
    "people_path = 'People.csv'\n",
    "team_path = 'Teams.csv'\n",
    "salaries_path = 'Salaries.csv'\n",
    "df_batting = pd.read_csv(batting_path)\n",
    "df_player = pd.read_csv(people_path)\n",
    "df_team = pd.read_csv(team_path)\n",
    "df_money = pd.read_csv(salaries_path)"
   ]
  },
  {
   "cell_type": "code",
   "execution_count": 32,
   "metadata": {},
   "outputs": [],
   "source": [
    "# print the columns of each dataframe"
   ]
  },
  {
   "cell_type": "code",
   "execution_count": null,
   "metadata": {},
   "outputs": [],
   "source": [
    "# filter the df_batting such that it only contains yearID > 1950"
   ]
  },
  {
   "cell_type": "code",
   "execution_count": 33,
   "metadata": {},
   "outputs": [],
   "source": [
    "# in the batting dataframe, group the rows by playerID and yearID\n",
    "# (they may have played for more than 1 team)\n",
    "# calculate their total number of at-bats (AB), H\n",
    "# doubles (2B), triples (3B), home runs(HR), and walks\n",
    "# copy this to a new dataframe"
   ]
  },
  {
   "cell_type": "code",
   "execution_count": null,
   "metadata": {},
   "outputs": [],
   "source": [
    "# calculate each player's batting average: H/AB\n",
    "# calculate each player's on-base-percentage: (H+BB) / (AB+BB)\n",
    "# calculate the number of single (1B) a player hit:\n",
    "# H - 2B - 3B - HR\n",
    "# calculate a player's slugging percentage:\n",
    "# (1B + 2 * 2B + 3* 3B + 4* HR) / (AB)"
   ]
  },
  {
   "cell_type": "code",
   "execution_count": 34,
   "metadata": {},
   "outputs": [],
   "source": [
    "# join/merge the dataframe you created with df_player (on player id)\n",
    "# calculate each players age in a given year (just use yearID - birthYear)\n",
    "# group by age and then calculate the batting average and slugging percentage\n",
    "# over all players of a given age\n",
    "# at which age do players have the highest batting average and slugging percentage?"
   ]
  },
  {
   "cell_type": "code",
   "execution_count": 35,
   "metadata": {},
   "outputs": [],
   "source": [
    "### join the salary table with the player table and the table you made\n",
    "### where you calculated OBP and SLG, etc. (WHAT KIND OF JOIN DO YOU WANT TO DO)\n",
    "### calculate the total runs scored by a player of a given age\n",
    "### for every year, what is average cost of a run scored for each age?"
   ]
  }
 ],
 "metadata": {
  "kernelspec": {
   "display_name": "Python 3",
   "language": "python",
   "name": "python3"
  },
  "language_info": {
   "codemirror_mode": {
    "name": "ipython",
    "version": 3
   },
   "file_extension": ".py",
   "mimetype": "text/x-python",
   "name": "python",
   "nbconvert_exporter": "python",
   "pygments_lexer": "ipython3",
   "version": "3.8.5"
  }
 },
 "nbformat": 4,
 "nbformat_minor": 4
}
