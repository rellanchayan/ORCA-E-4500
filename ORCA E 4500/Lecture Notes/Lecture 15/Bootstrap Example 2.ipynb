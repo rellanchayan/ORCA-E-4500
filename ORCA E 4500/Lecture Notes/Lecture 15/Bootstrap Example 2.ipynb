{
 "cells": [
  {
   "cell_type": "code",
   "execution_count": 56,
   "metadata": {},
   "outputs": [],
   "source": [
    "import matplotlib.pyplot as plt\n",
    "import numpy as np\n",
    "import pandas as pd\n",
    "from scipy.stats import poisson\n",
    "from scipy.stats import norm\n",
    "from scipy.optimize import minimize"
   ]
  },
  {
   "cell_type": "code",
   "execution_count": 67,
   "metadata": {},
   "outputs": [],
   "source": [
    "data = pd.read_csv('accidents.csv', index_col=0)"
   ]
  },
  {
   "cell_type": "code",
   "execution_count": 68,
   "metadata": {},
   "outputs": [
    {
     "data": {
      "text/plain": [
       "(array([3334., 2265., 1809., 1240.,  743.,  363.,  154.,   64.,   23.,\n",
       "           5.]),\n",
       " array([ 0. ,  1.1,  2.2,  3.3,  4.4,  5.5,  6.6,  7.7,  8.8,  9.9, 11. ]),\n",
       " <BarContainer object of 10 artists>)"
      ]
     },
     "execution_count": 68,
     "metadata": {},
     "output_type": "execute_result"
    },
    {
     "data": {
      "image/png": "[encoded data removed]",
      "text/plain": [
       "<Figure size 720x720 with 1 Axes>"
      ]
     },
     "metadata": {
      "needs_background": "light"
     },
     "output_type": "display_data"
    }
   ],
   "source": [
    "fig, ax = plt.subplots(1,1,figsize=(10,10))\n",
    "ax.hist(data)"
   ]
  },
  {
   "cell_type": "code",
   "execution_count": 78,
   "metadata": {},
   "outputs": [
    {
     "name": "stdout",
     "output_type": "stream",
     "text": [
      "(2.4393495, 2.5210298)\n",
      "(2.4393493493941265, 2.5210298383761187)\n"
     ]
    }
   ],
   "source": [
    "# calculate estimator\n",
    "\n",
    "def bootstrap_CI(X, m, alpha):\n",
    "    # returns two-sided \n",
    "    n = len(X)\n",
    "    X_resample = np.random.choice(X, size=(m,n))\n",
    "    mles = np.mean(X_resample, axis=1)\n",
    "    lower_bound = np.percentile(mles, alpha / 2)\n",
    "    upper_bound = np.percentile(mles, 100 - alpha/2)\n",
    "    return (lower_bound, upper_bound)\n",
    "\n",
    "\n",
    "def likelihood(X, lam):\n",
    "    return -np.sum(np.log(poisson.pmf(X, lam)))\n",
    "\n",
    "\n",
    "def bootstrap_CI2(X, m, alpha):\n",
    "    # returns two-sided \n",
    "    n = len(X)\n",
    "    X_resample = np.random.choice(X, size=(m,n))\n",
    "    mles = np.zeros(m)\n",
    "    for i in range(m):\n",
    "        f = lambda x: likelihood(X_resample[i,:], x[0])\n",
    "        res = minimize(f, [1], bounds=((0, None),))\n",
    "        mles[i] = res.x\n",
    "    lower_bound = np.percentile(mles, alpha / 2)\n",
    "    upper_bound = np.percentile(mles, 100 - alpha/2)\n",
    "    return (lower_bound, upper_bound)\n",
    "\n",
    "likelihood(data['values'], 1)\n",
    "np.random.seed(1)\n",
    "print(bootstrap_CI(data['values'], 10, .05))\n",
    "np.random.seed(1)\n",
    "print(bootstrap_CI2(data['values'], 10, .05))\n"
   ]
  },
  {
   "cell_type": "code",
   "execution_count": 33,
   "metadata": {},
   "outputs": [
    {
     "data": {
      "text/plain": [
       "(2.416413566642629, 2.5401864333573707)"
      ]
     },
     "execution_count": 33,
     "metadata": {},
     "output_type": "execute_result"
    }
   ],
   "source": [
    "# compare this to normal ci\n",
    "\n",
    "def normal_ci(X, alpha):\n",
    "    n = len(X)\n",
    "    x_bar = np.mean(X)\n",
    "    s2 = np.var(X)\n",
    "    z_alpha = norm.ppf(1 - alpha / 200)\n",
    "    lower_bound = x_bar - z_alpha * s2 / np.sqrt(n)\n",
    "    upper_bound = x_bar + z_alpha * s2 / np.sqrt(n)\n",
    "    return (lower_bound, upper_bound)\n",
    "\n",
    "normal_ci(data['values'], 5)"
   ]
  },
  {
   "cell_type": "code",
   "execution_count": 66,
   "metadata": {},
   "outputs": [
    {
     "data": {
      "text/plain": [
       "0     0.142735\n",
       "1     0.097307\n",
       "2     0.255683\n",
       "3     0.086613\n",
       "4     0.286634\n",
       "5     0.339763\n",
       "6     0.470815\n",
       "7    -0.302788\n",
       "8     0.178047\n",
       "9     0.327425\n",
       "10    0.278122\n",
       "11    0.441079\n",
       "12    0.904735\n",
       "13    0.453307\n",
       "14    0.568046\n",
       "Name: values, dtype: float64"
      ]
     },
     "execution_count": 66,
     "metadata": {},
     "output_type": "execute_result"
    }
   ],
   "source": [
    "data['values']"
   ]
  },
  {
   "cell_type": "code",
   "execution_count": null,
   "metadata": {},
   "outputs": [],
   "source": []
  }
 ],
 "metadata": {
  "kernelspec": {
   "display_name": "Python 3",
   "language": "python",
   "name": "python3"
  },
  "language_info": {
   "codemirror_mode": {
    "name": "ipython",
    "version": 3
   },
   "file_extension": ".py",
   "mimetype": "text/x-python",
   "name": "python",
   "nbconvert_exporter": "python",
   "pygments_lexer": "ipython3",
   "version": "3.8.5"
  }
 },
 "nbformat": 4,
 "nbformat_minor": 4
}
