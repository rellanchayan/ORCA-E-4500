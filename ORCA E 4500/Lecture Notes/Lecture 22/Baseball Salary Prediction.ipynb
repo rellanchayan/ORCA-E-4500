{
 "cells": [
  {
   "cell_type": "code",
   "execution_count": 1,
   "metadata": {},
   "outputs": [],
   "source": [
    "import numpy as np\n",
    "import pandas as pd\n",
    "import matplotlib.pyplot as plt"
   ]
  },
  {
   "cell_type": "code",
   "execution_count": 2,
   "metadata": {},
   "outputs": [],
   "source": [
    "from sklearn.model_selection import GridSearchCV, train_test_split\n",
    "from sklearn.compose import ColumnTransformer\n",
    "from sklearn.preprocessing import StandardScaler, PolynomialFeatures, OneHotEncoder\n",
    "from sklearn.linear_model import Ridge\n",
    "from sklearn.pipeline import Pipeline"
   ]
  },
  {
   "cell_type": "code",
   "execution_count": 3,
   "metadata": {},
   "outputs": [],
   "source": [
    "path = 'baseball/data/core/'\n",
    "df_batting = pd.read_csv(path + 'Batting.csv')\n",
    "df_salaries = pd.read_csv(path + 'Salaries.csv')\n",
    "df_appearances = pd.read_csv(path + 'Appearances.csv')"
   ]
  },
  {
   "cell_type": "code",
   "execution_count": 4,
   "metadata": {},
   "outputs": [],
   "source": [
    "pos_comb = df_appearances.groupby(['playerID', 'yearID']).sum()\n",
    "pos_comb = pos_comb.drop(columns=['G_all', 'GS', 'G_batting', 'G_defense', 'G_of'])\n",
    "player_pos = pd.DataFrame()\n",
    "player_pos['pos'] = pos_comb.idxmax(axis=1).str.split('_').apply(lambda x: x[1])\n",
    "player_pos['GP'] = pos_comb.max(axis=1)\n",
    "player_pos = player_pos[player_pos['pos'] != 'p']"
   ]
  },
  {
   "cell_type": "code",
   "execution_count": 5,
   "metadata": {},
   "outputs": [],
   "source": [
    "batting_stats = df_batting.groupby(['playerID', 'yearID']).sum()"
   ]
  },
  {
   "cell_type": "code",
   "execution_count": 6,
   "metadata": {},
   "outputs": [],
   "source": [
    "batting_stats = batting_stats[['HR', 'H', 'BB']]\n",
    "batting_stats['years_in_mlb'] = batting_stats.sort_index().groupby(['playerID']).cumcount()"
   ]
  },
  {
   "cell_type": "code",
   "execution_count": 7,
   "metadata": {},
   "outputs": [],
   "source": [
    "df_salaries = df_salaries.set_index(['playerID', 'yearID'])"
   ]
  },
  {
   "cell_type": "code",
   "execution_count": 8,
   "metadata": {},
   "outputs": [],
   "source": [
    "df = batting_stats.join(df_salaries, how='inner').join(player_pos, how='inner')"
   ]
  },
  {
   "cell_type": "code",
   "execution_count": null,
   "metadata": {},
   "outputs": [],
   "source": []
  },
  {
   "cell_type": "code",
   "execution_count": 9,
   "metadata": {},
   "outputs": [],
   "source": [
    "y = df['salary'] / 1000000\n",
    "X = df.reset_index().drop(columns=['salary', 'playerID'])\n",
    "\n",
    "X_train, X_test, y_train, y_test = train_test_split(X, y)"
   ]
  },
  {
   "cell_type": "code",
   "execution_count": 10,
   "metadata": {},
   "outputs": [
    {
     "data": {
      "text/plain": [
       "GridSearchCV(cv=5,\n",
       "             estimator=Pipeline(steps=[('preprocessing',\n",
       "                                        ColumnTransformer(transformers=[('cat',\n",
       "                                                                         Pipeline(steps=[('encode',\n",
       "                                                                                          OneHotEncoder(handle_unknown='ignore',\n",
       "                                                                                                        sparse=False))]),\n",
       "                                                                         ['yearID',\n",
       "                                                                          'years_in_mlb',\n",
       "                                                                          'teamID',\n",
       "                                                                          'lgID',\n",
       "                                                                          'pos']),\n",
       "                                                                        ('cont',\n",
       "                                                                         Pipeline(steps=[('poly',\n",
       "                                                                                          PolynomialFeatures(include_bias=False)),\n",
       "                                                                                         ('scale',\n",
       "                                                                                          StandardScaler())]),\n",
       "                                                                         Index(['BB', 'GP', 'H', 'HR'], dtype='object'))])),\n",
       "                                       ('regression', Ridge())]),\n",
       "             param_grid={'regression__alpha': array([  0.1       ,   0.21544347,   0.46415888,   1.        ,\n",
       "         2.15443469,   4.64158883,  10.        ,  21.5443469 ,\n",
       "        46.41588834, 100.        ])})"
      ]
     },
     "execution_count": 10,
     "metadata": {},
     "output_type": "execute_result"
    }
   ],
   "source": [
    "cat_cols = ['yearID', 'years_in_mlb', 'teamID', 'lgID', 'pos']\n",
    "cont_cols = X_train.columns.difference(cat_cols)\n",
    "\n",
    "param_grid = {'regression__alpha': np.logspace(-1, 2, 10)}\n",
    "\n",
    "cat_pipe = Pipeline([('encode', OneHotEncoder(handle_unknown='ignore', sparse=False))])\n",
    "\n",
    "cont_pipe = Pipeline([('poly', PolynomialFeatures(degree=2, include_bias=False)),\n",
    "                      ('scale', StandardScaler())])\n",
    "\n",
    "cf = ColumnTransformer([('cat', cat_pipe, cat_cols),\n",
    "                        ('cont', cont_pipe, cont_cols)])\n",
    "\n",
    "pipe = Pipeline([('preprocessing', cf),\n",
    "                 ('regression', Ridge(fit_intercept=True))])\n",
    "\n",
    "ridgeCV = GridSearchCV(pipe, param_grid = param_grid, cv=5)\n",
    "ridgeCV.fit(X_train, y_train)"
   ]
  },
  {
   "cell_type": "code",
   "execution_count": null,
   "metadata": {},
   "outputs": [],
   "source": []
  }
 ],
 "metadata": {
  "kernelspec": {
   "display_name": "Python 3",
   "language": "python",
   "name": "python3"
  },
  "language_info": {
   "codemirror_mode": {
    "name": "ipython",
    "version": 3
   },
   "file_extension": ".py",
   "mimetype": "text/x-python",
   "name": "python",
   "nbconvert_exporter": "python",
   "pygments_lexer": "ipython3",
   "version": "3.8.5"
  }
 },
 "nbformat": 4,
 "nbformat_minor": 4
}
