{
 "cells": [
  {
   "cell_type": "code",
   "execution_count": 17,
   "metadata": {},
   "outputs": [],
   "source": [
    "import numpy as np\n",
    "from scipy.optimize import minimize\n",
    "from scipy.stats import gamma as gamma_dist"
   ]
  },
  {
   "cell_type": "code",
   "execution_count": 21,
   "metadata": {},
   "outputs": [],
   "source": [
    "k = 4\n",
    "theta = 2\n",
    "\n",
    "X = gamma_dist.rvs(k, loc=0, scale=theta, size=(10000,))"
   ]
  },
  {
   "cell_type": "code",
   "execution_count": 22,
   "metadata": {},
   "outputs": [
    {
     "name": "stdout",
     "output_type": "stream",
     "text": [
      "[3.97598706 2.01131165]\n"
     ]
    }
   ],
   "source": [
    "# hard-coded numerical minimization\n",
    "\n",
    "def log_likelihood(x, k, theta):\n",
    "    L = gamma_dist.pdf(x, k, loc=0, scale=theta)\n",
    "    l = np.log(L)\n",
    "    return np.sum(l)\n",
    "    \n",
    "f = lambda x: (-1) * log_likelihood(X, x[0], x[1])\n",
    "x0 = [1, 1]\n",
    "\n",
    "bounds = ((0,None), (0, None))\n",
    "\n",
    "sol = minimize(f, x0, bounds=bounds)\n",
    "print(sol.x)"
   ]
  },
  {
   "cell_type": "code",
   "execution_count": 23,
   "metadata": {},
   "outputs": [
    {
     "name": "stdout",
     "output_type": "stream",
     "text": [
      "(3.975988407372152, 0, 2.0113104020131836)\n"
     ]
    }
   ],
   "source": [
    "# mle using built in functions\n",
    "\n",
    "gamma_dist.fit(X)\n",
    "print(gamma_dist.fit(X, floc=0))"
   ]
  },
  {
   "cell_type": "code",
   "execution_count": 24,
   "metadata": {},
   "outputs": [
    {
     "name": "stdout",
     "output_type": "stream",
     "text": [
      "[3.97583183 2.01139912]\n"
     ]
    }
   ],
   "source": [
    "# method of moments\n",
    "\n",
    "# expectation of x is k*theta\n",
    "# expectation of x^2 (k+k^2)*theta\n",
    "\n",
    "def method_of_moments(X, k, theta):\n",
    "    \n",
    "    m1 = gamma_dist.moment(1, k, scale=theta)\n",
    "    m2 = gamma_dist.moment(2, k, scale=theta)\n",
    "    \n",
    "    sm1 = np.mean(X)\n",
    "    sm2 = np.mean(X ** 2)\n",
    "    \n",
    "    return [m1 - sm1, m2 - sm2]\n",
    "\n",
    "\n",
    "f = lambda x: np.sum(np.power(method_of_moments(X, x[0], x[1]), 2))\n",
    "\n",
    "sol = minimize(f, x0, bounds=bounds)\n",
    "print(sol.x)"
   ]
  },
  {
   "cell_type": "code",
   "execution_count": null,
   "metadata": {},
   "outputs": [],
   "source": []
  }
 ],
 "metadata": {
  "kernelspec": {
   "display_name": "Python 3",
   "language": "python",
   "name": "python3"
  },
  "language_info": {
   "codemirror_mode": {
    "name": "ipython",
    "version": 3
   },
   "file_extension": ".py",
   "mimetype": "text/x-python",
   "name": "python",
   "nbconvert_exporter": "python",
   "pygments_lexer": "ipython3",
   "version": "3.8.5"
  }
 },
 "nbformat": 4,
 "nbformat_minor": 4
}
