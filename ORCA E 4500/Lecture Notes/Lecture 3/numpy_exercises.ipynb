{
 "cells": [
  {
   "cell_type": "code",
   "execution_count": 2,
   "metadata": {},
   "outputs": [],
   "source": [
    "import numpy as np\n",
    "import matplotlib.pyplot as plt"
   ]
  },
  {
   "cell_type": "code",
   "execution_count": 26,
   "metadata": {},
   "outputs": [],
   "source": [
    "x = [59.42649421, 55.58726505, 65.23300987, 66.13738074, 60.91996085,\n",
    "       55.85811706, 58.0582923 , 60.61091199, 64.89652398, 69.32840032,\n",
    "       60.35299079, 61.97565806, 68.18860035, 64.31453248, 56.65074281,\n",
    "       56.57132735, 61.56030852, 64.1639614 , 64.60110847, 64.64751662,\n",
    "       58.31443559, 54.25999223, 58.84301377, 63.46653987, 60.07288485,\n",
    "       51.86696962, 53.86787105, 56.98659755, 55.84219098, 56.44303203]\n",
    "\n",
    "y = [59.99811522, 55.11109184, 64.35660765, 63.47401643, 56.71585792,\n",
    "       54.32954589, 59.71421953, 61.40437889, 65.96258278, 72.66086436,\n",
    "       60.73616546, 60.32574465, 67.26776508, 62.42656374, 55.38496873,\n",
    "       57.38024325, 60.39843669, 61.81243858, 64.33648484, 64.86741143,\n",
    "       58.75313726, 55.77588005, 59.46862275, 61.48970191, 57.85264649,\n",
    "       53.21652635, 55.80486898, 57.99794322, 55.9033371 , 53.90241318]"
   ]
  },
  {
   "cell_type": "code",
   "execution_count": 19,
   "metadata": {},
   "outputs": [
    {
     "data": {
      "text/plain": [
       "60.56111986581409"
      ]
     },
     "execution_count": 19,
     "metadata": {},
     "output_type": "execute_result"
    }
   ],
   "source": [
    "# calculate the means of x and y\n"
   ]
  },
  {
   "cell_type": "code",
   "execution_count": 20,
   "metadata": {},
   "outputs": [
    {
     "data": {
      "text/plain": [
       "array([[68.14556835, 64.33882464, 59.80383594, 58.847186  , 59.88502982,\n",
       "        61.93424948, 63.28688492, 61.7882636 , 62.25500547, 60.97161403,\n",
       "        61.83271787, 61.33464171, 60.08269264, 60.69480192, 55.68783479,\n",
       "        52.91474463, 56.82646599, 60.16163373, 56.38712775, 51.78352931,\n",
       "        56.76913721, 59.08104727, 56.61644195, 58.71861531, 57.88016619,\n",
       "        58.78795426, 62.03589686, 64.27875242, 66.8926289 , 63.29084675],\n",
       "       [65.30106719, 61.76940548, 59.74008449, 57.06779623, 59.58070064,\n",
       "        63.86468483, 63.25885328, 61.68315743, 63.91435067, 63.02423024,\n",
       "        62.17369683, 62.09291563, 61.17655164, 59.19440812, 55.18711142,\n",
       "        53.34914139, 59.68240823, 61.26970275, 54.76640024, 51.57896434,\n",
       "        54.00783398, 57.92461027, 58.09061088, 60.12639694, 55.81586574,\n",
       "        58.03976197, 67.53910795, 70.38572387, 71.30245769, 63.92559563]])"
      ]
     },
     "execution_count": 20,
     "metadata": {},
     "output_type": "execute_result"
    }
   ],
   "source": [
    "# convert x and y into a 2-dimensional array where x and y are each a row\n"
   ]
  },
  {
   "cell_type": "code",
   "execution_count": 23,
   "metadata": {},
   "outputs": [
    {
     "data": {
      "text/plain": [
       "array([[50.55416297, 51.937474  ],\n",
       "       [51.63717835, 51.420133  ],\n",
       "       [56.76253328, 57.27233583],\n",
       "       [56.10275899, 57.2333138 ],\n",
       "       [60.57032044, 60.31019479],\n",
       "       [63.2884666 , 63.69817489],\n",
       "       [58.69645746, 60.00890763],\n",
       "       [58.50981501, 60.07097757],\n",
       "       [58.9082454 , 57.60355113],\n",
       "       [55.65308802, 54.91889813],\n",
       "       [56.89482185, 58.4864869 ],\n",
       "       [60.41987873, 62.62858458],\n",
       "       [62.66733169, 63.78378373],\n",
       "       [54.99422968, 56.15059006],\n",
       "       [53.62662164, 57.67893806],\n",
       "       [61.60924219, 62.77417917],\n",
       "       [62.49911707, 59.78888044],\n",
       "       [58.49344385, 58.58756975],\n",
       "       [59.68605279, 61.07433055],\n",
       "       [62.960542  , 62.13012195],\n",
       "       [62.55181604, 61.50109437],\n",
       "       [59.69545633, 59.24486881],\n",
       "       [55.43910864, 55.19230746],\n",
       "       [57.57229274, 55.37499859],\n",
       "       [64.79649407, 62.49565014],\n",
       "       [61.43301612, 59.71274703],\n",
       "       [57.4508724 , 57.20202815],\n",
       "       [55.60140036, 59.17840458],\n",
       "       [52.55210119, 55.68774999],\n",
       "       [59.67775085, 60.17453618]])"
      ]
     },
     "execution_count": 23,
     "metadata": {},
     "output_type": "execute_result"
    }
   ],
   "source": [
    "# convert x and y into a 2-dimensional array where x and y are each a column\n"
   ]
  },
  {
   "cell_type": "code",
   "execution_count": null,
   "metadata": {},
   "outputs": [],
   "source": [
    "# calculate the means of x and y using one call to np.mean \n",
    "# (use the 2-dimensional array you made)"
   ]
  },
  {
   "cell_type": "code",
   "execution_count": null,
   "metadata": {},
   "outputs": [],
   "source": [
    "# calculate the element-wise mean of x and y"
   ]
  },
  {
   "cell_type": "code",
   "execution_count": null,
   "metadata": {},
   "outputs": [],
   "source": [
    "# calculate the element-wise maximum of x and y"
   ]
  },
  {
   "cell_type": "code",
   "execution_count": 18,
   "metadata": {},
   "outputs": [
    {
     "data": {
      "text/plain": [
       "array([[1.        , 0.26832304],\n",
       "       [0.26832304, 1.        ]])"
      ]
     },
     "execution_count": 18,
     "metadata": {},
     "output_type": "execute_result"
    }
   ],
   "source": [
    "# calculate the serial correlation between x_t and x_{t-1}\n"
   ]
  },
  {
   "cell_type": "code",
   "execution_count": 25,
   "metadata": {},
   "outputs": [
    {
     "data": {
      "text/plain": [
       "array([60.57032044, 60.31019479, 63.2884666 , 63.69817489, 60.00890763,\n",
       "       60.07097757, 60.41987873, 62.62858458, 62.66733169, 63.78378373,\n",
       "       61.60924219, 62.77417917, 62.49911707, 59.78888044, 59.68605279,\n",
       "       61.07433055, 62.960542  , 62.13012195, 62.55181604, 61.50109437,\n",
       "       59.69545633, 59.24486881, 64.79649407, 62.49565014, 61.43301612,\n",
       "       59.71274703, 59.17840458, 59.67775085, 60.17453618])"
      ]
     },
     "execution_count": 25,
     "metadata": {},
     "output_type": "execute_result"
    }
   ],
   "source": [
    "# calculate the mean of x when x is greater than 60"
   ]
  },
  {
   "cell_type": "code",
   "execution_count": null,
   "metadata": {},
   "outputs": [],
   "source": [
    "# sort the values"
   ]
  }
 ],
 "metadata": {
  "kernelspec": {
   "display_name": "Python 3",
   "language": "python",
   "name": "python3"
  },
  "language_info": {
   "codemirror_mode": {
    "name": "ipython",
    "version": 3
   },
   "file_extension": ".py",
   "mimetype": "text/x-python",
   "name": "python",
   "nbconvert_exporter": "python",
   "pygments_lexer": "ipython3",
   "version": "3.8.5"
  }
 },
 "nbformat": 4,
 "nbformat_minor": 4
}
