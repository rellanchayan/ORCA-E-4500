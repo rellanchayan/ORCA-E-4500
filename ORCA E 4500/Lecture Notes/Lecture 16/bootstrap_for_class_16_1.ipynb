{
 "cells": [
  {
   "cell_type": "code",
   "execution_count": 4,
   "metadata": {},
   "outputs": [],
   "source": [
    "import matplotlib.pyplot as plt\n",
    "import numpy as np\n",
    "import pandas as pd\n",
    "from scipy.stats import poisson"
   ]
  },
  {
   "cell_type": "code",
   "execution_count": 5,
   "metadata": {},
   "outputs": [],
   "source": [
    "data = pd.read_csv('accidents.csv', index_col=0)\n",
    "data = data.iloc[:30]"
   ]
  },
  {
   "cell_type": "code",
   "execution_count": 51,
   "metadata": {},
   "outputs": [],
   "source": [
    "def bootstrap_CI(X, m, alpha):\n",
    "    # returns two-sided \n",
    "    n = len(X)\n",
    "    X_resample = np.random.choice(X, size=(m,n))\n",
    "    mles = np.mean(X_resample, axis=1)\n",
    "    lower_bound = np.percentile(mles, alpha / 2)\n",
    "    upper_bound = np.percentile(mles, 100 - alpha/2)\n",
    "    return (lower_bound, upper_bound, mles)"
   ]
  },
  {
   "cell_type": "code",
   "execution_count": 63,
   "metadata": {},
   "outputs": [
    {
     "name": "stdout",
     "output_type": "stream",
     "text": [
      "2.515 3.1958333333333337\n"
     ]
    }
   ],
   "source": [
    "np.random.seed(10)\n",
    "\n",
    "l, u, mles = bootstrap_CI(data['values'], 10, 5)\n",
    "print(l, u)"
   ]
  },
  {
   "cell_type": "code",
   "execution_count": 62,
   "metadata": {},
   "outputs": [
    {
     "name": "stdout",
     "output_type": "stream",
     "text": [
      "2.514999995753098 3.1958333407411548\n"
     ]
    },
    {
     "name": "stderr",
     "output_type": "stream",
     "text": [
      "<ipython-input-62-52d8f91ec63a>:5: RuntimeWarning: divide by zero encountered in log\n",
      "  return (-1) * np.sum(np.log(likelihood))\n"
     ]
    }
   ],
   "source": [
    "from scipy.optimize import minimize_scalar\n",
    "\n",
    "def poisson_log_likelihood(X, lam):\n",
    "    likelihood = poisson.pmf(X, lam)\n",
    "    return (-1) * np.sum(np.log(likelihood))\n",
    "\n",
    "def bootstrap_CI2(X, m, alpha):\n",
    "    # returns two-sided \n",
    "    n = len(X)\n",
    "    X_resample = np.random.choice(X, size=(m,n))\n",
    "    mles = np.zeros(m)\n",
    "    for i in range(0, m):\n",
    "        f = lambda lam: poisson_log_likelihood(X_resample[i,:], lam)\n",
    "        res = minimize_scalar(f, bounds=(0, None))\n",
    "        mles[i] = res.x\n",
    "    lower_bound = np.percentile(mles, alpha / 2)\n",
    "    upper_bound = np.percentile(mles, 100 - alpha/2)\n",
    "    return (lower_bound, upper_bound, mles)\n",
    "\n",
    "np.random.seed(10)\n",
    "\n",
    "l1, u1, mles = bootstrap_CI2(data['values'], 10, 5)\n",
    "print(l1, u1)"
   ]
  },
  {
   "cell_type": "code",
   "execution_count": 60,
   "metadata": {},
   "outputs": [
    {
     "name": "stdout",
     "output_type": "stream",
     "text": [
      "0.8901525501641778 4.567763582921698\n"
     ]
    },
    {
     "name": "stderr",
     "output_type": "stream",
     "text": [
      "<ipython-input-60-dedb880328ad>:7: RuntimeWarning: divide by zero encountered in log\n",
      "  return (-1) * np.sum(np.log(likelihood))\n",
      "/Users/christopherdolan/opt/anaconda3/lib/python3.8/site-packages/scipy/optimize/_numdiff.py:557: RuntimeWarning: invalid value encountered in subtract\n",
      "  df = fun(x) - f0\n",
      "/Users/christopherdolan/opt/anaconda3/lib/python3.8/site-packages/scipy/stats/_distn_infrastructure.py:1835: RuntimeWarning: divide by zero encountered in true_divide\n",
      "  x = np.asarray((x - loc)/scale, dtype=dtyp)\n"
     ]
    }
   ],
   "source": [
    "from scipy.stats import gamma\n",
    "from scipy.optimize import minimize\n",
    "\n",
    "\n",
    "def gamma_log_likelihood(X, shape, scale):\n",
    "    likelihood = gamma.pdf(X, shape, scale=scale)\n",
    "    return (-1) * np.sum(np.log(likelihood))\n",
    "\n",
    "def bootstrap_CI3(X, m, alpha):\n",
    "    # returns two-sided \n",
    "    n = len(X)\n",
    "    X_resample = np.random.choice(X, size=(m,n))\n",
    "    mles = np.zeros((m,2))\n",
    "    for i in range(0, m):\n",
    "        f = lambda x: gamma_log_likelihood(X_resample[i,:], x[0], x[1])\n",
    "        res = minimize(f, [1,1], bounds=((0, None), (0, None)))\n",
    "        mles[i,:] = res.x\n",
    "    lower_bound = np.percentile(mles, alpha / 2)\n",
    "    upper_bound = np.percentile(mles, 100 - alpha/2)\n",
    "    return (lower_bound, upper_bound, mles)\n",
    "\n",
    "np.random.seed(10)\n",
    "\n",
    "l1, u1, mles = bootstrap_CI3(data['values'] + 1, 10, 5)\n",
    "print(l1, u1)"
   ]
  },
  {
   "cell_type": "code",
   "execution_count": 61,
   "metadata": {},
   "outputs": [
    {
     "data": {
      "text/plain": [
       "(4.297352258068876, 0, 0.930805705417666)"
      ]
     },
     "execution_count": 61,
     "metadata": {},
     "output_type": "execute_result"
    }
   ],
   "source": [
    "gamma.fit(data['values']+1, floc=0)"
   ]
  },
  {
   "cell_type": "code",
   "execution_count": null,
   "metadata": {},
   "outputs": [],
   "source": []
  }
 ],
 "metadata": {
  "kernelspec": {
   "display_name": "Python 3",
   "language": "python",
   "name": "python3"
  },
  "language_info": {
   "codemirror_mode": {
    "name": "ipython",
    "version": 3
   },
   "file_extension": ".py",
   "mimetype": "text/x-python",
   "name": "python",
   "nbconvert_exporter": "python",
   "pygments_lexer": "ipython3",
   "version": "3.8.5"
  }
 },
 "nbformat": 4,
 "nbformat_minor": 4
}
