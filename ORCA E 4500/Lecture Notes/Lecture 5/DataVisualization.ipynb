{
 "cells": [
  {
   "cell_type": "code",
   "execution_count": null,
   "metadata": {},
   "outputs": [],
   "source": [
    "import pandas as pd\n",
    "import matplotlib.pyplot as plt\n",
    "import seaborn as sns"
   ]
  },
  {
   "cell_type": "code",
   "execution_count": null,
   "metadata": {},
   "outputs": [],
   "source": [
    "%matplotlib inline"
   ]
  },
  {
   "cell_type": "code",
   "execution_count": null,
   "metadata": {},
   "outputs": [],
   "source": [
    "batting_path = 'Batting.csv'\n",
    "batting = pd.read_csv(batting_path)"
   ]
  },
  {
   "cell_type": "code",
   "execution_count": null,
   "metadata": {},
   "outputs": [],
   "source": [
    "total_by_year = batting.groupby('yearID').sum()"
   ]
  },
  {
   "cell_type": "code",
   "execution_count": null,
   "metadata": {},
   "outputs": [],
   "source": [
    "# line plotting\n",
    "\n",
    "fig = plt.figure()\n",
    "ax = fig.add_subplot(1,1,1)\n",
    "ax.set_title('types of hit by year')\n",
    "ax.plot(total_by_year['HR'], label='HRs')\n",
    "ax.plot(total_by_year['2B'], label='2Bs')\n",
    "ax.set_xlabel('Year')\n",
    "ax.set_ylabel('Total')\n",
    "ax.legend()\n"
   ]
  },
  {
   "cell_type": "code",
   "execution_count": null,
   "metadata": {},
   "outputs": [],
   "source": [
    "# histograms\n",
    "fig = plt.figure()\n",
    "ax = fig.add_subplot(1,1,1)\n",
    "ax.set_title('scatter plot')\n",
    "#ax.hist(total_by_year['HR'], label='HRs')\n",
    "ax.hist([total_by_year['HR'], total_by_year['2B']], label=['HR', '2B'], bins=20, density=True)\n",
    "ax.legend()"
   ]
  },
  {
   "cell_type": "code",
   "execution_count": null,
   "metadata": {},
   "outputs": [],
   "source": [
    "# scatter plots\n",
    "fig = plt.figure(figsize=(10,10))\n",
    "ax = fig.add_subplot(1,1,1)\n",
    "ax.scatter(total_by_year['HR'], total_by_year['SO'], s=total_by_year['3B']/10)"
   ]
  },
  {
   "cell_type": "code",
   "execution_count": null,
   "metadata": {},
   "outputs": [],
   "source": [
    "# bar plot\n",
    "total_by_team = batting[batting['yearID']>1990].groupby('teamID').sum()\n",
    "fig = plt.figure(figsize=(10, 10))\n",
    "ax = fig.add_subplot(1,1,1)\n",
    "ax.tick_params(axis='x',rotation=90)\n",
    "ax.bar(x=total_by_team.index, height=total_by_team['HR'])\n",
    "ax.bar(x=total_by_team.index, height=total_by_team['2B'], bottom=total_by_team['HR'])\n",
    "\n",
    "\n"
   ]
  },
  {
   "cell_type": "code",
   "execution_count": null,
   "metadata": {},
   "outputs": [],
   "source": []
  },
  {
   "cell_type": "code",
   "execution_count": null,
   "metadata": {},
   "outputs": [],
   "source": [
    "fig = plt.figure(figsize=(10,10))\n",
    "fig.suptitle('HRs and SOs, a story in four acts')\n",
    "\n",
    "ax1 = fig.add_subplot(2,2,1)\n",
    "ax1.set_title('HRs by year')\n",
    "ax1.set_title('types of hit by year')\n",
    "ax1.plot(total_by_year['HR'], label='HRs')\n",
    "ax1.plot(total_by_year['2B'], label='2Bs')\n",
    "ax1.set_xlabel('Year')\n",
    "ax1.set_ylabel('Total')\n",
    "ax1.legend()\n",
    "\n",
    "ax2 = fig.add_subplot(2,2,2)\n",
    "ax2.set_title('second subplot')\n",
    "\n",
    "ax3 = fig.add_subplot(2,2,3)\n",
    "ax3.set_title('third subplot')\n",
    "\n",
    "ax4 = fig.add_subplot(2,2,4)\n",
    "ax4.set_title('fourth subplot')"
   ]
  },
  {
   "cell_type": "code",
   "execution_count": null,
   "metadata": {},
   "outputs": [],
   "source": [
    "fig = plt.figure()\n",
    "fig.suptitle('I am an empty figure')\n",
    "\n",
    "ax1 = fig.add_subplot(2,2,1)\n",
    "ax1.set_title('first subplot')\n",
    "\n",
    "ax2 = fig.add_subplot(2,2,2)\n",
    "ax2.set_title('second subplot')\n",
    "\n",
    "ax3 = fig.add_subplot(2,2,3)\n",
    "ax3.set_title('third subplot')\n",
    "\n",
    "ax4 = fig.add_subplot(2,2,4)\n",
    "ax4.set_title('fourth subplot')"
   ]
  }
 ],
 "metadata": {
  "kernelspec": {
   "display_name": "Python 3",
   "language": "python",
   "name": "python3"
  },
  "language_info": {
   "codemirror_mode": {
    "name": "ipython",
    "version": 3
   },
   "file_extension": ".py",
   "mimetype": "text/x-python",
   "name": "python",
   "nbconvert_exporter": "python",
   "pygments_lexer": "ipython3",
   "version": "3.8.5"
  }
 },
 "nbformat": 4,
 "nbformat_minor": 4
}
