{
 "cells": [
  {
   "cell_type": "code",
   "execution_count": null,
   "metadata": {},
   "outputs": [],
   "source": [
    "import numpy as np\n",
    "import pandas as pd"
   ]
  },
  {
   "cell_type": "code",
   "execution_count": null,
   "metadata": {},
   "outputs": [],
   "source": [
    "batting_path = 'Batting.csv'\n",
    "people_path = 'People.csv'\n",
    "team_path = 'Teams.csv'\n",
    "salaries_path = 'Salaries.csv'\n",
    "app_path = 'Appearances.csv'\n",
    "batting = pd.read_csv(batting_path)\n",
    "players = pd.read_csv(people_path)\n",
    "teams = pd.read_csv(team_path)\n",
    "money = pd.read_csv(salaries_path)\n",
    "pos = pd.read_csv(app_path)"
   ]
  },
  {
   "cell_type": "code",
   "execution_count": null,
   "metadata": {},
   "outputs": [],
   "source": [
    "teams.columns"
   ]
  },
  {
   "cell_type": "code",
   "execution_count": null,
   "metadata": {},
   "outputs": [],
   "source": [
    "# display head of batting\n",
    "batting.head(10)"
   ]
  },
  {
   "cell_type": "code",
   "execution_count": null,
   "metadata": {},
   "outputs": [],
   "source": [
    "# print the columns of each dataframe\n",
    "print('batting: ', batting.columns)\n",
    "print('player: ', players.columns)\n",
    "print('teams: ', teams.columns)\n",
    "print('money: ', money.columns)"
   ]
  },
  {
   "cell_type": "code",
   "execution_count": null,
   "metadata": {},
   "outputs": [],
   "source": [
    "# print summary statistics for batting\n",
    "teams.describe()"
   ]
  },
  {
   "cell_type": "code",
   "execution_count": null,
   "metadata": {},
   "outputs": [],
   "source": [
    "# look at team ids (unique values)\n",
    "teams['name'].unique()\n",
    "teams['name'].nunique()"
   ]
  },
  {
   "cell_type": "code",
   "execution_count": null,
   "metadata": {},
   "outputs": [],
   "source": [
    "# look for missing values in each of the dataframes\n",
    "\n",
    "batting.isnull().sum()\n",
    "batting.query('yearID>1955').isnull().sum()\n",
    "batting[(batting['yearID'] > 1950) & (batting['IBB'].isnull())]"
   ]
  },
  {
   "cell_type": "code",
   "execution_count": null,
   "metadata": {},
   "outputs": [],
   "source": [
    "# look for duplicate values in batting\n",
    "\n",
    "batting.duplicated().sum()\n",
    "batting.duplicated(subset=['playerID', 'yearID']).sum()\n",
    "batting.duplicated(subset=['playerID', 'yearID', 'stint']).sum()"
   ]
  },
  {
   "cell_type": "code",
   "execution_count": null,
   "metadata": {},
   "outputs": [],
   "source": [
    "# look into stint\n",
    "\n",
    "batting.sort_values('stint', ascending=False)\n",
    "\n",
    "\n",
    "loc1 = batting['playerID'] == 'drakeol01'\n",
    "loc2 = batting['yearID'] == 2018\n",
    "\n",
    "batting[loc1 & loc2]\n",
    "\n",
    "batting.groupby(['playerID', 'yearID', 'teamID'])['stint'].count().sort_values()\n",
    "\n",
    "\n",
    "loc3 = batting['playerID'] == 'chouife01'\n",
    "loc4 = batting['yearID'] == 1914\n",
    "\n",
    "\n",
    "batting[loc3 & loc4]"
   ]
  },
  {
   "cell_type": "code",
   "execution_count": null,
   "metadata": {},
   "outputs": [],
   "source": [
    "# filter the df_batting such that it only contains yearID = 1990\n",
    "# filter df_batting such that it only contains yearID = 1991\n",
    "\n",
    "bat1990 = batting[batting['yearID'] == 1990]\n",
    "bat1991 = batting[batting['yearID'] == 1991]\n",
    "\n",
    "bat1990sum = batting[batting['yearID'] == 1990].groupby(['playerID', 'yearID']).sum()\n",
    "bat1991sum = batting[batting['yearID'] == 1991].groupby(['playerID', 'yearID']).sum()\n",
    "\n",
    "\n",
    "bat1990sum + bat1991sum\n",
    "\n",
    "#why doesn't this work???\n",
    "\n",
    "#two ways\n",
    "\n"
   ]
  },
  {
   "cell_type": "code",
   "execution_count": null,
   "metadata": {},
   "outputs": [],
   "source": [
    "## correct answer\n",
    "bat1990sum.reset_index().drop('yearID', axis=1).set_index('playerID') + \\\n",
    "    bat1991sum.reset_index().drop('yearID', axis=1).set_index('playerID')\n"
   ]
  },
  {
   "cell_type": "code",
   "execution_count": null,
   "metadata": {},
   "outputs": [],
   "source": [
    "# look at players dataframe\n",
    "\n",
    "\n",
    "players.head(10)\n",
    "players.isnull().sum()\n",
    "\n",
    "players[players['debut'].isnull()]"
   ]
  },
  {
   "cell_type": "code",
   "execution_count": null,
   "metadata": {},
   "outputs": [],
   "source": [
    "#look at the teams dataframe\n",
    "\n",
    "teams.head(10)\n",
    "\n",
    "teams.isnull().sum()\n",
    "\n",
    "teams[teams['divID'].isnull()]"
   ]
  },
  {
   "cell_type": "code",
   "execution_count": null,
   "metadata": {},
   "outputs": [],
   "source": [
    "# in the batting dataframe, group the rows by playerID and yearID\n",
    "# (they may have played for more than 1 team)\n",
    "# calculate their total number of at-bats (AB), H\n",
    "# doubles (2B), triples (3B), home runs(HR), and walks\n",
    "# copy this to a new dataframe\n",
    "\n",
    "bat = batting[batting['yearID']> 1912]\n",
    "\n",
    "bat = bat.groupby(['playerID', 'yearID']).sum()\n",
    "cols = ['AB', 'H', '2B', '3B', 'HR', 'BB', 'R']\n",
    "\n",
    "bat = bat[cols]"
   ]
  },
  {
   "cell_type": "code",
   "execution_count": null,
   "metadata": {},
   "outputs": [],
   "source": [
    "# calculate each player's batting average: H/AB\n",
    "# calculate each player's on-base-percentage: (H+BB) / (AB+BB)\n",
    "# calculate the number of single (1B) a player hit:\n",
    "# H - 2B - 3B - HR\n",
    "# calculate a player's slugging percentage:\n",
    "# (1B + 2 * 2B + 3* 3B + 4* HR) / (AB)\n",
    "\n",
    "\n",
    "bat['BA'] = bat['H'] / bat['AB']\n",
    "bat['BA'] = bat['BA'].fillna(0.0)\n",
    "\n",
    "bat['OBP'] = (bat['H'] + bat['BB']) / (bat['AB'] + bat['BB'])\n",
    "bat['OBP'].fillna(0.0, inplace=True)\n",
    "\n",
    "bat['1B'] = (bat['H'] - bat['2B'] - bat['3B'] - bat['HR'])\n",
    "\n",
    "bat['SLG'] = (bat['1B'] + 2 * bat['2B'] + 3 * bat['3B'] + 4 * bat['HR']) / bat['AB']\n",
    "bat['SLG'].fillna(0.0, inplace=True)\n",
    "bat['OPS'] = bat['OBP'] + bat['SLG']\n",
    "\n",
    "\n",
    "#def BA(H, AB):\n",
    "#    return H / AB\n",
    "\n",
    "#bat['BA'] = bat[['H', 'AB']].apply(lambda x: BA(x[0], x[1]), axis=1)\n"
   ]
  },
  {
   "cell_type": "code",
   "execution_count": null,
   "metadata": {},
   "outputs": [],
   "source": [
    "# calculate the league leaders in 1B, 2B, 3B, 4B\n",
    "\n",
    "bat.rank()\n",
    "bat.groupby('yearID').rank()\n",
    "bat.groupby('yearID').idxmax()"
   ]
  },
  {
   "cell_type": "code",
   "execution_count": null,
   "metadata": {},
   "outputs": [],
   "source": [
    "# filter the dataset for AB qualifiers\n",
    "\n",
    "bat = bat[bat['AB'] > 100]\n",
    "\n",
    "bat.head(10)"
   ]
  },
  {
   "cell_type": "code",
   "execution_count": null,
   "metadata": {},
   "outputs": [],
   "source": [
    "# join/merge the dataframe you created with df_player (on player id)\n",
    "# calculate each players age in a given year (just use yearID - birthYear)\n",
    "# group by age and then calculate the batting average and slugging percentage\n",
    "# over all players of a given age\n",
    "# at which age do players have the highest batting average and slugging percentage?\n",
    "\n",
    "play = players.set_index('playerID')\n",
    "bat.join(play)\n",
    "bat.join(play, on='playerID')\n",
    "\n",
    "bat.merge(play, on='playerID', how='inner') #what's the problem with this? no yearID\n",
    "batting.merge(players, on='playerID')\n",
    "\n",
    "bat_comb = bat.join(play, on='playerID')\n",
    "bat_comb = bat_comb.reset_index()\n",
    "bat_comb['age'] = bat_comb['yearID'] - bat_comb['birthYear']\n",
    "bat_comb.set_index(['playerID', 'yearID'], inplace=True)\n",
    "\n",
    "age_perf = bat_comb.groupby('age')[['BA', 'OBP', 'SLG', 'OPS']].mean()\n",
    "\n"
   ]
  },
  {
   "cell_type": "code",
   "execution_count": null,
   "metadata": {},
   "outputs": [],
   "source": [
    "### join the salary table with the player table and the table you made\n",
    "### where you calculated OBP and SLG, etc. (WHAT KIND OF JOIN DO YOU WANT TO DO)\n",
    "### calculate the total runs scored by a player of a given age\n",
    "### for every year, what is average cost of a run scored for each age?\n",
    "\n",
    "money['yearID']\n",
    "money['yearID'].min()\n",
    "money.isnull().sum()\n",
    "money.duplicated().sum()\n",
    "mon_grp = money.groupby(['playerID', 'yearID']).sum()\n",
    "\n",
    "bat_comb.join(mon_grp)\n",
    "mon_grp = bat_comb.join(mon_grp, how='inner')\n",
    "\n",
    "mon_grp.groupby('age')[['R', 'salary']].sum().apply(lambda x: x[1] / x[0], axis=1)"
   ]
  },
  {
   "cell_type": "code",
   "execution_count": null,
   "metadata": {},
   "outputs": [],
   "source": [
    "# assign a player a position for a year based on which position they played the most\n",
    "\n",
    "pos.head(10)\n",
    "pos.columns\n",
    "\n",
    "pos_comb = pos.groupby(['playerID', 'yearID']).sum()\n",
    "pos_comb.idxmax(axis=1)\n",
    "pos_comb = pos_comb.drop(columns=['G_all', 'GS', 'G_batting', 'G_defense'])\n",
    "pos_comb['pos'] = pos_comb.idxmax(axis=1).str.split('_').apply(lambda x: x[1])"
   ]
  },
  {
   "cell_type": "code",
   "execution_count": null,
   "metadata": {},
   "outputs": [],
   "source": [
    "### stack to long-format data\n",
    "pos_long = pos_comb.stack()\n",
    "pos_long = pos_long[pos_long > 0]\n",
    "\n",
    "pos_long.unstack().fillna(0.0)\n",
    "\n",
    "pos_comb.reset_index().melt(id_vars=['playerID', 'yearID'], value_vars = ['G_1b', 'G_2b'])"
   ]
  },
  {
   "cell_type": "code",
   "execution_count": null,
   "metadata": {},
   "outputs": [],
   "source": [
    "mon_grp.join(pos_comb).groupby(['yearID', 'pos'])['salary'].mean().groupby('yearID').idxmax()"
   ]
  },
  {
   "cell_type": "code",
   "execution_count": null,
   "metadata": {},
   "outputs": [],
   "source": [
    "### combine outfield into one category\n",
    "\n",
    "positions = pos_comb['pos'].unique()\n",
    "pos_map = {pos: 'of' if pos in ['cf', 'rf', 'lf'] else pos for pos in positions}\n",
    "pos_comb['pos_cons'] = pos_comb['pos'].map(pos_map)"
   ]
  },
  {
   "cell_type": "code",
   "execution_count": null,
   "metadata": {},
   "outputs": [],
   "source": [
    "mon_grp.join(pos_comb).groupby(['yearID', 'pos_cons'])['salary'].mean().groupby('yearID').idxmax()"
   ]
  },
  {
   "cell_type": "code",
   "execution_count": null,
   "metadata": {},
   "outputs": [],
   "source": [
    "### bucket players by weight\n",
    "### calculate the career number of games played by weight\n",
    "\n",
    "players['weight_class'] = pd.qcut(players['weight'], q=10)\n",
    "\n",
    "bt_wt = bat.copy()\n",
    "\n",
    "bt_wt = bt_wt.join(players.set_index('playerID')['weight_class'])\n",
    "bt_wt = bt_wt.dropna(how='any')\n",
    "\n",
    "bt_wt.groupby('weight_class')['HR'].mean()"
   ]
  },
  {
   "cell_type": "code",
   "execution_count": null,
   "metadata": {},
   "outputs": [],
   "source": [
    "bt_wt.query('yearID > 1990')['weight_class'].sort_values()"
   ]
  },
  {
   "cell_type": "code",
   "execution_count": null,
   "metadata": {},
   "outputs": [],
   "source": []
  }
 ],
 "metadata": {
  "kernelspec": {
   "display_name": "Python 3",
   "language": "python",
   "name": "python3"
  },
  "language_info": {
   "codemirror_mode": {
    "name": "ipython",
    "version": 3
   },
   "file_extension": ".py",
   "mimetype": "text/x-python",
   "name": "python",
   "nbconvert_exporter": "python",
   "pygments_lexer": "ipython3",
   "version": "3.8.5"
  }
 },
 "nbformat": 4,
 "nbformat_minor": 4
}
