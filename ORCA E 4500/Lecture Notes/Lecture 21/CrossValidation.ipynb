{
 "cells": [
  {
   "cell_type": "code",
   "execution_count": 13,
   "metadata": {},
   "outputs": [],
   "source": [
    "import matplotlib.pyplot as plt\n",
    "import numpy as np\n",
    "import pandas as pd\n",
    "\n",
    "import statsmodels.api as sm\n",
    "from sklearn.linear_model import LinearRegression\n",
    "from sklearn import datasets"
   ]
  },
  {
   "cell_type": "code",
   "execution_count": 2,
   "metadata": {},
   "outputs": [],
   "source": [
    "data = datasets.load_diabetes()"
   ]
  },
  {
   "cell_type": "code",
   "execution_count": 4,
   "metadata": {},
   "outputs": [],
   "source": [
    "cols = ['age', 'sex', 'bmi', 'bp', 'tcell', 'ldl', 'hdl', 'tch', \n",
    "       'ltg', 'glu']"
   ]
  },
  {
   "cell_type": "code",
   "execution_count": 6,
   "metadata": {},
   "outputs": [],
   "source": [
    "df_x = pd.DataFrame(data=data['data'], columns=cols)\n",
    "df_y = pd.DataFrame(data=data['target'], columns=['outcome'])"
   ]
  },
  {
   "cell_type": "code",
   "execution_count": 10,
   "metadata": {},
   "outputs": [],
   "source": [
    "lm = sm.OLS(df_y, df_x)\n",
    "res = lm.fit()"
   ]
  },
  {
   "cell_type": "code",
   "execution_count": 12,
   "metadata": {},
   "outputs": [
    {
     "data": {
      "text/plain": [
       "LinearRegression()"
      ]
     },
     "execution_count": 12,
     "metadata": {},
     "output_type": "execute_result"
    }
   ],
   "source": [
    "lm_sk = LinearRegression(fit_intercept=True)\n",
    "lm_sk.fit(df_x, df_y)"
   ]
  },
  {
   "cell_type": "code",
   "execution_count": 16,
   "metadata": {},
   "outputs": [
    {
     "data": {
      "text/plain": [
       "<matplotlib.collections.PathCollection at 0x7f8455bb6a30>"
      ]
     },
     "execution_count": 16,
     "metadata": {},
     "output_type": "execute_result"
    },
    {
     "data": {
      "image/png": "[encoded data removed]",
      "text/plain": [
       "<Figure size 432x288 with 1 Axes>"
      ]
     },
     "metadata": {
      "needs_background": "light"
     },
     "output_type": "display_data"
    }
   ],
   "source": [
    "plt.scatter(lm_sk.predict(df_x), df_y)"
   ]
  },
  {
   "cell_type": "code",
   "execution_count": 28,
   "metadata": {},
   "outputs": [
    {
     "name": "stderr",
     "output_type": "stream",
     "text": [
      "/Users/christopherdolan/opt/anaconda3/lib/python3.8/site-packages/sklearn/linear_model/_coordinate_descent.py:529: ConvergenceWarning: Objective did not converge. You might want to increase the number of iterations. Duality gap: 2823.880715104111, tolerance: 145.51775780590714\n",
      "  model = cd_fast.enet_coordinate_descent(\n",
      "/Users/christopherdolan/opt/anaconda3/lib/python3.8/site-packages/sklearn/linear_model/_ridge.py:147: LinAlgWarning: Ill-conditioned matrix (rcond=7.35226e-21): result may not be accurate.\n",
      "  return linalg.solve(A, Xy, sym_pos=True,\n"
     ]
    },
    {
     "data": {
      "text/plain": [
       "Ridge(alpha=0)"
      ]
     },
     "execution_count": 28,
     "metadata": {},
     "output_type": "execute_result"
    }
   ],
   "source": [
    "from sklearn.model_selection import train_test_split\n",
    "from sklearn.model_selection import GridSearchCV\n",
    "from sklearn.preprocessing import StandardScaler\n",
    "from sklearn.preprocessing import PolynomialFeatures\n",
    "from sklearn.pipeline import Pipeline\n",
    "from sklearn.linear_model import Ridge\n",
    "from sklearn.linear_model import Lasso\n",
    "\n",
    "pf = PolynomialFeatures(degree=2, include_bias=False)\n",
    "pf.fit(df_x)\n",
    "\n",
    "X_train, X_test, y_train, y_test = train_test_split(df_x, df_y, test_size=0.33, random_state=25)\n",
    "X_train = pf.transform(X_train)\n",
    "X_test = pf.transform(X_test)\n",
    "\n",
    "param_grid = {'alpha': [0.01, .05, .1, .5, 1, 5, 10, 50, 100, 500, 1000]}\n",
    "rr = Ridge(normalize=True)\n",
    "la = Lasso(normalize=True, max_iter=1000)\n",
    "rr0 = Ridge(alpha=0)\n",
    "\n",
    "rr_search = GridSearchCV(rr, param_grid=param_grid, cv=5)\n",
    "la_search = GridSearchCV(la, param_grid=param_grid, cv=5)\n",
    "\n",
    "rr_search.fit(X_train, y_train)\n",
    "la_search.fit(X_train, y_train)\n",
    "rr0.fit(X_train, y_train)"
   ]
  },
  {
   "cell_type": "code",
   "execution_count": 25,
   "metadata": {},
   "outputs": [
    {
     "name": "stdout",
     "output_type": "stream",
     "text": [
      "0.46057851209387957\n",
      "0.4869749818729151\n",
      "0.6530476405381935\n"
     ]
    }
   ],
   "source": [
    "print(rr_search.best_score_)\n",
    "print(la_search.best_score_)\n",
    "print(rr0.score(X_train, y_train))"
   ]
  },
  {
   "cell_type": "code",
   "execution_count": 27,
   "metadata": {},
   "outputs": [
    {
     "name": "stdout",
     "output_type": "stream",
     "text": [
      "0.4401458415712498\n",
      "0.4105534827996288\n",
      "0.15643703221116612\n"
     ]
    }
   ],
   "source": [
    "print(rr_search.score(X_test, y_test))\n",
    "print(la_search.score(X_test, y_test))\n",
    "print(rr0.score(X_test, y_test))"
   ]
  },
  {
   "cell_type": "code",
   "execution_count": 33,
   "metadata": {},
   "outputs": [
    {
     "data": {
      "text/plain": [
       "GridSearchCV(cv=5,\n",
       "             estimator=Pipeline(steps=[('scaling', StandardScaler()),\n",
       "                                       ('regression', Ridge())]),\n",
       "             param_grid={'regression__alpha': [0.01, 0.05, 0.1, 0.5, 1, 5, 10,\n",
       "                                               50, 100, 500, 1000]})"
      ]
     },
     "execution_count": 33,
     "metadata": {},
     "output_type": "execute_result"
    }
   ],
   "source": [
    "ss = StandardScaler()\n",
    "rr = Ridge()\n",
    "\n",
    "pipe = Pipeline(steps=[('scaling', ss), ('regression', rr)])\n",
    "pipe_grid = pipe_grid = {'regression__alpha': [0.01, .05, .1, .5, 1, 5, 10, 50, 100, 500, 1000]}\n",
    "\n",
    "pipe_search = GridSearchCV(pipe, param_grid=pipe_grid, cv=5)\n",
    "pipe_search.fit(X_train, y_train)"
   ]
  },
  {
   "cell_type": "code",
   "execution_count": 34,
   "metadata": {},
   "outputs": [
    {
     "data": {
      "text/plain": [
       "Pipeline(steps=[('scaling', StandardScaler()),\n",
       "                ('regression', Ridge(alpha=100))])"
      ]
     },
     "execution_count": 34,
     "metadata": {},
     "output_type": "execute_result"
    }
   ],
   "source": [
    "pipe_search.best_estimator_"
   ]
  },
  {
   "cell_type": "code",
   "execution_count": null,
   "metadata": {},
   "outputs": [],
   "source": []
  }
 ],
 "metadata": {
  "kernelspec": {
   "display_name": "Python 3",
   "language": "python",
   "name": "python3"
  },
  "language_info": {
   "codemirror_mode": {
    "name": "ipython",
    "version": 3
   },
   "file_extension": ".py",
   "mimetype": "text/x-python",
   "name": "python",
   "nbconvert_exporter": "python",
   "pygments_lexer": "ipython3",
   "version": "3.8.5"
  }
 },
 "nbformat": 4,
 "nbformat_minor": 4
}
