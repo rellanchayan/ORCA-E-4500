{
 "cells": [
  {
   "cell_type": "code",
   "execution_count": 1,
   "metadata": {},
   "outputs": [],
   "source": [
    "import matplotlib.pyplot as plt\n",
    "import numpy as np\n",
    "import pandas as pd\n",
    "import seaborn as sns"
   ]
  },
  {
   "cell_type": "code",
   "execution_count": 2,
   "metadata": {},
   "outputs": [],
   "source": [
    "from sklearn.model_selection import train_test_split\n",
    "from sklearn.model_selection import GridSearchCV\n",
    "from sklearn.preprocessing import StandardScaler\n",
    "\n",
    "from sklearn.ensemble import RandomForestClassifier\n",
    "from sklearn.ensemble import GradientBoostingClassifier\n",
    "from sklearn.linear_model import LogisticRegression"
   ]
  },
  {
   "cell_type": "code",
   "execution_count": 3,
   "metadata": {},
   "outputs": [],
   "source": [
    "df = pd.read_csv('train.csv', index_col=0)"
   ]
  },
  {
   "cell_type": "code",
   "execution_count": 5,
   "metadata": {},
   "outputs": [
    {
     "name": "stderr",
     "output_type": "stream",
     "text": [
      "<ipython-input-5-a92a7ad7fb9b>:11: SettingWithCopyWarning: \n",
      "A value is trying to be set on a copy of a slice from a DataFrame.\n",
      "Try using .loc[row_indexer,col_indexer] = value instead\n",
      "\n",
      "See the caveats in the documentation: https://pandas.pydata.org/pandas-docs/stable/user_guide/indexing.html#returning-a-view-versus-a-copy\n",
      "  X_train['Age'] = np.median(X_train['Age'].dropna())\n",
      "<ipython-input-5-a92a7ad7fb9b>:12: SettingWithCopyWarning: \n",
      "A value is trying to be set on a copy of a slice from a DataFrame.\n",
      "Try using .loc[row_indexer,col_indexer] = value instead\n",
      "\n",
      "See the caveats in the documentation: https://pandas.pydata.org/pandas-docs/stable/user_guide/indexing.html#returning-a-view-versus-a-copy\n",
      "  X_test['Age'] = np.median(X_train['Age'].dropna())\n",
      "<ipython-input-5-a92a7ad7fb9b>:14: SettingWithCopyWarning: \n",
      "A value is trying to be set on a copy of a slice from a DataFrame.\n",
      "Try using .loc[row_indexer,col_indexer] = value instead\n",
      "\n",
      "See the caveats in the documentation: https://pandas.pydata.org/pandas-docs/stable/user_guide/indexing.html#returning-a-view-versus-a-copy\n",
      "  X_train['Pclass'] = X_train['Pclass'].astype(object)\n",
      "<ipython-input-5-a92a7ad7fb9b>:15: SettingWithCopyWarning: \n",
      "A value is trying to be set on a copy of a slice from a DataFrame.\n",
      "Try using .loc[row_indexer,col_indexer] = value instead\n",
      "\n",
      "See the caveats in the documentation: https://pandas.pydata.org/pandas-docs/stable/user_guide/indexing.html#returning-a-view-versus-a-copy\n",
      "  X_test['Pclass'] = X_test['Pclass'].astype(object)\n"
     ]
    }
   ],
   "source": [
    "y = df['Survived']\n",
    "X = df.drop(columns=['Survived'])\n",
    "\n",
    "X_train_df, X_test_df, y_train, y_test = train_test_split(X, y, test_size=0.2)\n",
    "\n",
    "def data_clean(X_train, X_test):\n",
    "    \n",
    "    age_fill = X_train.groupby(['Pclass', 'Sex'])['Age'].median()\n",
    "    #X_train = X_train.reset_index().set_index(['Pclass', 'Sex']).fillna({'Age':age_fill}).reset_index().set_index('PassengerId')\n",
    "    #X_test = X_test.reset_index().set_index(['Pclass', 'Sex']).fillna({'Age':age_fill}).reset_index().set_index('PassengerId')\n",
    "    X_train['Age'] = np.median(X_train['Age'].dropna())\n",
    "    X_test['Age'] = np.median(X_train['Age'].dropna())\n",
    "    \n",
    "    X_train['Pclass'] = X_train['Pclass'].astype(object)\n",
    "    X_test['Pclass'] = X_test['Pclass'].astype(object)\n",
    "    X_train_cat = pd.get_dummies(X_train[['Pclass', 'Sex']])\n",
    "    X_test_cat = pd.get_dummies(X_test[['Pclass', 'Sex']])\n",
    "    X_train = pd.concat([X_train[['Age', 'Fare']], X_train_cat], axis=1)\n",
    "    X_test = pd.concat([X_test[['Age', 'Fare']], X_test_cat], axis=1)\n",
    "    return X_train, X_test\n",
    "\n",
    "X_train_df, X_test_df = data_clean(X_train_df, X_test_df)\n",
    "ss = StandardScaler()\n",
    "ss.fit(X_train_df)\n",
    "X_train = ss.transform(X_train_df)\n",
    "X_test = ss.transform(X_test_df)"
   ]
  },
  {
   "cell_type": "code",
   "execution_count": 6,
   "metadata": {},
   "outputs": [
    {
     "data": {
      "text/plain": [
       "GridSearchCV(estimator=RandomForestClassifier(),\n",
       "             param_grid={'max_depth': [None, 2, 3, 5],\n",
       "                         'min_samples_split': [2, 10, 25, 50]})"
      ]
     },
     "execution_count": 6,
     "metadata": {},
     "output_type": "execute_result"
    }
   ],
   "source": [
    "rf_parameters = {'max_depth': [None, 2, 3, 5],\n",
    "                 'min_samples_split': [2, 10, 25, 50]}\n",
    "\n",
    "rf = RandomForestClassifier()\n",
    "rf_fit = GridSearchCV(rf, rf_parameters)\n",
    "rf_fit.fit(X_train, y_train)"
   ]
  },
  {
   "cell_type": "code",
   "execution_count": 8,
   "metadata": {},
   "outputs": [
    {
     "data": {
      "text/plain": [
       "RandomForestClassifier(min_samples_split=10)"
      ]
     },
     "execution_count": 8,
     "metadata": {},
     "output_type": "execute_result"
    }
   ],
   "source": [
    "rf_fit.best_estimator_"
   ]
  },
  {
   "cell_type": "code",
   "execution_count": 9,
   "metadata": {},
   "outputs": [
    {
     "data": {
      "text/plain": [
       "0.8201418300009848"
      ]
     },
     "execution_count": 9,
     "metadata": {},
     "output_type": "execute_result"
    }
   ],
   "source": [
    "rf_fit.best_score_"
   ]
  },
  {
   "cell_type": "code",
   "execution_count": 10,
   "metadata": {},
   "outputs": [
    {
     "data": {
      "text/plain": [
       "0.7932960893854749"
      ]
     },
     "execution_count": 10,
     "metadata": {},
     "output_type": "execute_result"
    }
   ],
   "source": [
    "rf_fit.score(X_test, y_test)"
   ]
  },
  {
   "cell_type": "code",
   "execution_count": 11,
   "metadata": {},
   "outputs": [
    {
     "data": {
      "text/plain": [
       "GridSearchCV(estimator=GradientBoostingClassifier(),\n",
       "             param_grid={'learning_rate': [0.05, 0.1, 0.2, 0.3, 0.5],\n",
       "                         'min_samples_split': [2, 10, 25, 50],\n",
       "                         'n_estimators': [20, 35, 50, 75, 100]})"
      ]
     },
     "execution_count": 11,
     "metadata": {},
     "output_type": "execute_result"
    }
   ],
   "source": [
    "gb_parameters = {'learning_rate': [0.05, 0.1, 0.2, 0.3, 0.5],\n",
    "                 'n_estimators': [20, 35, 50,75, 100],\n",
    "                 'min_samples_split': [2, 10, 25, 50]}\n",
    "\n",
    "gb = GradientBoostingClassifier()\n",
    "gb_fit = GridSearchCV(gb, gb_parameters)\n",
    "gb_fit.fit(X_train, y_train)"
   ]
  },
  {
   "cell_type": "code",
   "execution_count": 12,
   "metadata": {},
   "outputs": [
    {
     "data": {
      "text/plain": [
       "GradientBoostingClassifier(learning_rate=0.3, min_samples_split=10,\n",
       "                           n_estimators=75)"
      ]
     },
     "execution_count": 12,
     "metadata": {},
     "output_type": "execute_result"
    }
   ],
   "source": [
    "gb_fit.best_estimator_"
   ]
  },
  {
   "cell_type": "code",
   "execution_count": 13,
   "metadata": {},
   "outputs": [
    {
     "data": {
      "text/plain": [
       "0.8313995863291639"
      ]
     },
     "execution_count": 13,
     "metadata": {},
     "output_type": "execute_result"
    }
   ],
   "source": [
    "gb_fit.best_score_"
   ]
  },
  {
   "cell_type": "code",
   "execution_count": 14,
   "metadata": {},
   "outputs": [
    {
     "data": {
      "text/plain": [
       "0.7988826815642458"
      ]
     },
     "execution_count": 14,
     "metadata": {},
     "output_type": "execute_result"
    }
   ],
   "source": [
    "gb_fit.score(X_test, y_test)"
   ]
  },
  {
   "cell_type": "code",
   "execution_count": 15,
   "metadata": {},
   "outputs": [
    {
     "data": {
      "text/plain": [
       "GridSearchCV(estimator=LogisticRegression(),\n",
       "             param_grid={'C': [0.01, 0.05, 0.1, 0.5, 1.0, 5.0, 10.0],\n",
       "                         'penalty': ['l2']})"
      ]
     },
     "execution_count": 15,
     "metadata": {},
     "output_type": "execute_result"
    }
   ],
   "source": [
    "lr_parameters = {'penalty': ['l2'],\n",
    "                 'C': [0.01, 0.05, 0.1, 0.5, 1.0, 5.0, 10.0]}\n",
    "\n",
    "lr = LogisticRegression()\n",
    "lr_fit = GridSearchCV(lr, lr_parameters)\n",
    "lr_fit.fit(X_train, y_train)"
   ]
  },
  {
   "cell_type": "code",
   "execution_count": 16,
   "metadata": {},
   "outputs": [
    {
     "data": {
      "text/plain": [
       "LogisticRegression(C=5.0)"
      ]
     },
     "execution_count": 16,
     "metadata": {},
     "output_type": "execute_result"
    }
   ],
   "source": [
    "lr_fit.best_estimator_"
   ]
  },
  {
   "cell_type": "code",
   "execution_count": 17,
   "metadata": {},
   "outputs": [
    {
     "data": {
      "text/plain": [
       "0.7850783019797104"
      ]
     },
     "execution_count": 17,
     "metadata": {},
     "output_type": "execute_result"
    }
   ],
   "source": [
    "lr_fit.best_score_"
   ]
  },
  {
   "cell_type": "code",
   "execution_count": 18,
   "metadata": {},
   "outputs": [
    {
     "data": {
      "text/plain": [
       "0.7932960893854749"
      ]
     },
     "execution_count": 18,
     "metadata": {},
     "output_type": "execute_result"
    }
   ],
   "source": [
    "lr_fit.score(X_test, y_test)"
   ]
  },
  {
   "cell_type": "code",
   "execution_count": 19,
   "metadata": {},
   "outputs": [],
   "source": [
    "predict_df = X_test_df.copy()\n",
    "predict_df['y'] = y_test\n",
    "predict_df['rf'] = rf_fit.predict_proba(X_test)[:,1]\n",
    "predict_df['gb'] = gb_fit.predict_proba(X_test)[:,1]\n",
    "predict_df['lr'] = lr_fit.predict_proba(X_test)[:,1]\n",
    "\n",
    "value_cols = ['y', 'rf', 'gb', 'lr']\n",
    "\n",
    "sex_df = predict_df.groupby(['Sex_male', 'Sex_female'])\n",
    "sex_df = sex_df[value_cols].mean()\n"
   ]
  },
  {
   "cell_type": "code",
   "execution_count": 20,
   "metadata": {},
   "outputs": [
    {
     "data": {
      "image/png": "[encoded data removed]",
      "text/plain": [
       "<Figure size 720x720 with 2 Axes>"
      ]
     },
     "metadata": {
      "needs_background": "light"
     },
     "output_type": "display_data"
    }
   ],
   "source": [
    "n = len(sex_df)\n",
    "\n",
    "fig, ax = plt.subplots(n,1,figsize=(10,10))\n",
    "for i, ind in enumerate(sex_df.index):\n",
    "    ax[i].bar(sex_df.columns, sex_df.loc[ind])\n",
    "    ax[i].set_title(sex_df.index.names[i])"
   ]
  },
  {
   "cell_type": "code",
   "execution_count": null,
   "metadata": {},
   "outputs": [],
   "source": []
  }
 ],
 "metadata": {
  "kernelspec": {
   "display_name": "Python 3",
   "language": "python",
   "name": "python3"
  },
  "language_info": {
   "codemirror_mode": {
    "name": "ipython",
    "version": 3
   },
   "file_extension": ".py",
   "mimetype": "text/x-python",
   "name": "python",
   "nbconvert_exporter": "python",
   "pygments_lexer": "ipython3",
   "version": "3.8.5"
  }
 },
 "nbformat": 4,
 "nbformat_minor": 4
}
